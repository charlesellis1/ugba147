{
 "cells": [
  {
   "cell_type": "markdown",
   "metadata": {
    "hideCode": false,
    "hidePrompt": false
   },
   "source": [
    "# Data Selection,<br>Descriptive Statistics,&<br>Synthetic Variables"
   ]
  },
  {
   "cell_type": "markdown",
   "metadata": {},
   "source": [
    "**Write and execute R code in the code cells per the instructions.  The expected results are provided for you directly following the code cells.**"
   ]
  },
  {
   "cell_type": "code",
   "execution_count": 134,
   "metadata": {},
   "outputs": [
    {
     "data": {
      "text/html": [
       "<p style=\"text-align:center; font-size:10px;\">\n",
       ".................................................... start of document ....................................................\n",
       "</p>"
      ]
     },
     "metadata": {},
     "output_type": "display_data"
    }
   ],
   "source": [
    "f = \"setup.R\"; for (i in 1:10) { if (file.exists(f)) break else f = paste0(\"../\", f) }; source(f)"
   ]
  },
  {
   "cell_type": "markdown",
   "metadata": {},
   "source": [
    "## Exercise 1\n",
    "\n",
    "Construct a dataset (i.e., dataframe) with 6 observations and 4 variables, as follows:\n",
    "* The first variable is named `name` and comprises these values: A, B, C, D, E, F\n",
    "* The second variable is named `x1` and comprises these values: 2.5, 2, 9, 6.5, 8, 4\n",
    "* The third variabe is named `x2` and comprises these values: 7, 3.5, 1, 7, 2.5, 8.5\n",
    "* Thefourth variable is named `x3` and comrpises these values: 9, 10, 1, 2, 1.5, 9\n",
    "\n",
    "You may want to use these function(s):\n",
    "* data.frame()"
   ]
  },
  {
   "cell_type": "code",
   "execution_count": 135,
   "metadata": {
    "hideCode": false,
    "hidePrompt": false,
    "run_control": {
     "marked": false
    }
   },
   "outputs": [
    {
     "data": {
      "text/html": [
       "<table>\n",
       "<thead><tr><th scope=col>name</th><th scope=col>x1</th><th scope=col>x2</th><th scope=col>x3</th></tr></thead>\n",
       "<tbody>\n",
       "\t<tr><td>A   </td><td>2.5 </td><td>7.0 </td><td> 9.0</td></tr>\n",
       "\t<tr><td>B   </td><td>2.0 </td><td>3.5 </td><td>10.0</td></tr>\n",
       "\t<tr><td>C   </td><td>9.0 </td><td>1.0 </td><td> 1.0</td></tr>\n",
       "\t<tr><td>D   </td><td>6.5 </td><td>7.0 </td><td> 2.0</td></tr>\n",
       "\t<tr><td>E   </td><td>8.0 </td><td>2.5 </td><td> 1.5</td></tr>\n",
       "\t<tr><td>F   </td><td>4.0 </td><td>8.5 </td><td> 9.0</td></tr>\n",
       "</tbody>\n",
       "</table>\n"
      ],
      "text/latex": [
       "\\begin{tabular}{r|llll}\n",
       " name & x1 & x2 & x3\\\\\n",
       "\\hline\n",
       "\t A    & 2.5  & 7.0  &  9.0\\\\\n",
       "\t B    & 2.0  & 3.5  & 10.0\\\\\n",
       "\t C    & 9.0  & 1.0  &  1.0\\\\\n",
       "\t D    & 6.5  & 7.0  &  2.0\\\\\n",
       "\t E    & 8.0  & 2.5  &  1.5\\\\\n",
       "\t F    & 4.0  & 8.5  &  9.0\\\\\n",
       "\\end{tabular}\n"
      ],
      "text/markdown": [
       "\n",
       "| name | x1 | x2 | x3 |\n",
       "|---|---|---|---|\n",
       "| A    | 2.5  | 7.0  |  9.0 |\n",
       "| B    | 2.0  | 3.5  | 10.0 |\n",
       "| C    | 9.0  | 1.0  |  1.0 |\n",
       "| D    | 6.5  | 7.0  |  2.0 |\n",
       "| E    | 8.0  | 2.5  |  1.5 |\n",
       "| F    | 4.0  | 8.5  |  9.0 |\n",
       "\n"
      ],
      "text/plain": [
       "  name x1  x2  x3  \n",
       "1 A    2.5 7.0  9.0\n",
       "2 B    2.0 3.5 10.0\n",
       "3 C    9.0 1.0  1.0\n",
       "4 D    6.5 7.0  2.0\n",
       "5 E    8.0 2.5  1.5\n",
       "6 F    4.0 8.5  9.0"
      ]
     },
     "metadata": {},
     "output_type": "display_data"
    }
   ],
   "source": [
    "df = data.frame(name=c(\"A\",\"B\",\"C\",\"D\",\"E\",\"F\"),\n",
    "                  x1=c(2.5,2,9,6.5,8,4),\n",
    "                  x2=c(7,3.5,1,7,2.5,8.5),\n",
    "                  x3=c(9,10,1,2,1.5,9))\n",
    "df"
   ]
  },
  {
   "cell_type": "markdown",
   "metadata": {},
   "source": [
    "## Exercise 2\n",
    "\n",
    "Summarize the dataset as table of variable types.\n",
    "\n",
    "You may want to use these function(s):\n",
    "* data.frame()\n",
    "* class()"
   ]
  },
  {
   "cell_type": "code",
   "execution_count": 136,
   "metadata": {},
   "outputs": [
    {
     "data": {
      "text/html": [
       "<table>\n",
       "<thead><tr><th scope=col>names</th><th scope=col>x1</th><th scope=col>x2</th><th scope=col>x3</th></tr></thead>\n",
       "<tbody>\n",
       "\t<tr><td>factor </td><td>numeric</td><td>numeric</td><td>numeric</td></tr>\n",
       "</tbody>\n",
       "</table>\n"
      ],
      "text/latex": [
       "\\begin{tabular}{r|llll}\n",
       " names & x1 & x2 & x3\\\\\n",
       "\\hline\n",
       "\t factor  & numeric & numeric & numeric\\\\\n",
       "\\end{tabular}\n"
      ],
      "text/markdown": [
       "\n",
       "| names | x1 | x2 | x3 |\n",
       "|---|---|---|---|\n",
       "| factor  | numeric | numeric | numeric |\n",
       "\n"
      ],
      "text/plain": [
       "  names  x1      x2      x3     \n",
       "1 factor numeric numeric numeric"
      ]
     },
     "metadata": {},
     "output_type": "display_data"
    }
   ],
   "source": [
    "data.frame(names=class(df$name),\n",
    "           x1 = class(df$x1),\n",
    "           x2 = class(df$x2),\n",
    "           x3 = class(df$x3))"
   ]
  },
  {
   "cell_type": "markdown",
   "metadata": {},
   "source": [
    "## Exercise 3\n",
    "\n",
    "Select variables `x1` and `x2` of the dataset."
   ]
  },
  {
   "cell_type": "code",
   "execution_count": 137,
   "metadata": {},
   "outputs": [
    {
     "data": {
      "text/html": [
       "<table>\n",
       "<thead><tr><th scope=col>x1</th><th scope=col>x2</th></tr></thead>\n",
       "<tbody>\n",
       "\t<tr><td>2.5</td><td>7.0</td></tr>\n",
       "\t<tr><td>2.0</td><td>3.5</td></tr>\n",
       "\t<tr><td>9.0</td><td>1.0</td></tr>\n",
       "\t<tr><td>6.5</td><td>7.0</td></tr>\n",
       "\t<tr><td>8.0</td><td>2.5</td></tr>\n",
       "\t<tr><td>4.0</td><td>8.5</td></tr>\n",
       "</tbody>\n",
       "</table>\n"
      ],
      "text/latex": [
       "\\begin{tabular}{r|ll}\n",
       " x1 & x2\\\\\n",
       "\\hline\n",
       "\t 2.5 & 7.0\\\\\n",
       "\t 2.0 & 3.5\\\\\n",
       "\t 9.0 & 1.0\\\\\n",
       "\t 6.5 & 7.0\\\\\n",
       "\t 8.0 & 2.5\\\\\n",
       "\t 4.0 & 8.5\\\\\n",
       "\\end{tabular}\n"
      ],
      "text/markdown": [
       "\n",
       "| x1 | x2 |\n",
       "|---|---|\n",
       "| 2.5 | 7.0 |\n",
       "| 2.0 | 3.5 |\n",
       "| 9.0 | 1.0 |\n",
       "| 6.5 | 7.0 |\n",
       "| 8.0 | 2.5 |\n",
       "| 4.0 | 8.5 |\n",
       "\n"
      ],
      "text/plain": [
       "  x1  x2 \n",
       "1 2.5 7.0\n",
       "2 2.0 3.5\n",
       "3 9.0 1.0\n",
       "4 6.5 7.0\n",
       "5 8.0 2.5\n",
       "6 4.0 8.5"
      ]
     },
     "metadata": {},
     "output_type": "display_data"
    }
   ],
   "source": [
    "df[,2:3]"
   ]
  },
  {
   "cell_type": "markdown",
   "metadata": {},
   "source": [
    "## Exercise 4\n",
    "\n",
    "Select observations 1 and 2 of the dataset."
   ]
  },
  {
   "cell_type": "code",
   "execution_count": 138,
   "metadata": {
    "scrolled": true
   },
   "outputs": [
    {
     "data": {
      "text/html": [
       "<table>\n",
       "<thead><tr><th scope=col>name</th><th scope=col>x1</th><th scope=col>x2</th><th scope=col>x3</th></tr></thead>\n",
       "<tbody>\n",
       "\t<tr><td>A  </td><td>2.5</td><td>7.0</td><td> 9 </td></tr>\n",
       "\t<tr><td>B  </td><td>2.0</td><td>3.5</td><td>10 </td></tr>\n",
       "</tbody>\n",
       "</table>\n"
      ],
      "text/latex": [
       "\\begin{tabular}{r|llll}\n",
       " name & x1 & x2 & x3\\\\\n",
       "\\hline\n",
       "\t A   & 2.5 & 7.0 &  9 \\\\\n",
       "\t B   & 2.0 & 3.5 & 10 \\\\\n",
       "\\end{tabular}\n"
      ],
      "text/markdown": [
       "\n",
       "| name | x1 | x2 | x3 |\n",
       "|---|---|---|---|\n",
       "| A   | 2.5 | 7.0 |  9  |\n",
       "| B   | 2.0 | 3.5 | 10  |\n",
       "\n"
      ],
      "text/plain": [
       "  name x1  x2  x3\n",
       "1 A    2.5 7.0  9\n",
       "2 B    2.0 3.5 10"
      ]
     },
     "metadata": {},
     "output_type": "display_data"
    }
   ],
   "source": [
    "df[1:2,]"
   ]
  },
  {
   "cell_type": "markdown",
   "metadata": {},
   "source": [
    "## Exercise 5\n",
    "\n",
    "Select variable `x1` of the dataset presented as a vector."
   ]
  },
  {
   "cell_type": "code",
   "execution_count": 139,
   "metadata": {},
   "outputs": [
    {
     "data": {
      "text/html": [
       "<ol class=list-inline>\n",
       "\t<li>2.5</li>\n",
       "\t<li>2</li>\n",
       "\t<li>9</li>\n",
       "\t<li>6.5</li>\n",
       "\t<li>8</li>\n",
       "\t<li>4</li>\n",
       "</ol>\n"
      ],
      "text/latex": [
       "\\begin{enumerate*}\n",
       "\\item 2.5\n",
       "\\item 2\n",
       "\\item 9\n",
       "\\item 6.5\n",
       "\\item 8\n",
       "\\item 4\n",
       "\\end{enumerate*}\n"
      ],
      "text/markdown": [
       "1. 2.5\n",
       "2. 2\n",
       "3. 9\n",
       "4. 6.5\n",
       "5. 8\n",
       "6. 4\n",
       "\n",
       "\n"
      ],
      "text/plain": [
       "[1] 2.5 2.0 9.0 6.5 8.0 4.0"
      ]
     },
     "metadata": {},
     "output_type": "display_data"
    }
   ],
   "source": [
    "df[,2]"
   ]
  },
  {
   "cell_type": "markdown",
   "metadata": {},
   "source": [
    "## Exercise 6\n",
    "\n",
    "Select the numeric variables of observation 1 of the dataset presented as a vector.\n",
    "\n",
    "You may want to use these function(s):\n",
    "* as.numeric()"
   ]
  },
  {
   "cell_type": "code",
   "execution_count": 140,
   "metadata": {},
   "outputs": [
    {
     "data": {
      "text/html": [
       "<ol class=list-inline>\n",
       "\t<li>1</li>\n",
       "\t<li>2.5</li>\n",
       "\t<li>7</li>\n",
       "\t<li>9</li>\n",
       "</ol>\n"
      ],
      "text/latex": [
       "\\begin{enumerate*}\n",
       "\\item 1\n",
       "\\item 2.5\n",
       "\\item 7\n",
       "\\item 9\n",
       "\\end{enumerate*}\n"
      ],
      "text/markdown": [
       "1. 1\n",
       "2. 2.5\n",
       "3. 7\n",
       "4. 9\n",
       "\n",
       "\n"
      ],
      "text/plain": [
       "[1] 1.0 2.5 7.0 9.0"
      ]
     },
     "metadata": {},
     "output_type": "display_data"
    }
   ],
   "source": [
    "as.numeric(df[1,])"
   ]
  },
  {
   "cell_type": "markdown",
   "metadata": {},
   "source": [
    "## Exercise 7\n",
    "\n",
    "Summarize the dataset as the correlation of variables `x1` vs. `x2`.  \n",
    "\n",
    "You may want to use these function(s):\n",
    "* cor()\n",
    "\n",
    "Note: `cor` can be used in 2 ways. `cor(table)` results in a table.  `cor(vector, vector)` results in a number.  Use the `cor(vector, vector)` form. "
   ]
  },
  {
   "cell_type": "code",
   "execution_count": 141,
   "metadata": {
    "scrolled": true
   },
   "outputs": [
    {
     "data": {
      "text/html": [
       "-0.556053308075072"
      ],
      "text/latex": [
       "-0.556053308075072"
      ],
      "text/markdown": [
       "-0.556053308075072"
      ],
      "text/plain": [
       "[1] -0.5560533"
      ]
     },
     "metadata": {},
     "output_type": "display_data"
    }
   ],
   "source": [
    "x1_v = df[,2]\n",
    "x2_v = df[,3]\n",
    "cor(x1_v, x2_v)\n"
   ]
  },
  {
   "cell_type": "markdown",
   "metadata": {},
   "source": [
    "## Exercise 8\n",
    "\n",
    "Summarize the dataset as a table with rows for variables `x1`, `x2`, and `x3`, and columns for the mean, standard deviation, median, minimum, maximum, and range **calculated across only the first and second** observations.\n",
    "\n",
    "You may want to use these function(s):\n",
    "* describe()\n",
    "* as.data.frame()\n",
    "\n",
    "Note: `describe` accepts one parameter - it accepts the table on which it will calculate statistics."
   ]
  },
  {
   "cell_type": "code",
   "execution_count": 142,
   "metadata": {},
   "outputs": [
    {
     "data": {
      "text/html": [
       "<table>\n",
       "<thead><tr><th></th><th scope=col>mean</th><th scope=col>sd</th><th scope=col>median</th><th scope=col>min</th><th scope=col>max</th><th scope=col>range</th></tr></thead>\n",
       "<tbody>\n",
       "\t<tr><th scope=row>x1</th><td>2.25     </td><td>0.3535534</td><td>2.25     </td><td>2.0      </td><td> 2.5     </td><td>0.5      </td></tr>\n",
       "\t<tr><th scope=row>x2</th><td>5.25     </td><td>2.4748737</td><td>5.25     </td><td>3.5      </td><td> 7.0     </td><td>3.5      </td></tr>\n",
       "\t<tr><th scope=row>x3</th><td>9.50     </td><td>0.7071068</td><td>9.50     </td><td>9.0      </td><td>10.0     </td><td>1.0      </td></tr>\n",
       "</tbody>\n",
       "</table>\n"
      ],
      "text/latex": [
       "\\begin{tabular}{r|llllll}\n",
       "  & mean & sd & median & min & max & range\\\\\n",
       "\\hline\n",
       "\tx1 & 2.25      & 0.3535534 & 2.25      & 2.0       &  2.5      & 0.5      \\\\\n",
       "\tx2 & 5.25      & 2.4748737 & 5.25      & 3.5       &  7.0      & 3.5      \\\\\n",
       "\tx3 & 9.50      & 0.7071068 & 9.50      & 9.0       & 10.0      & 1.0      \\\\\n",
       "\\end{tabular}\n"
      ],
      "text/markdown": [
       "\n",
       "| <!--/--> | mean | sd | median | min | max | range |\n",
       "|---|---|---|---|---|---|---|\n",
       "| x1 | 2.25      | 0.3535534 | 2.25      | 2.0       |  2.5      | 0.5       |\n",
       "| x2 | 5.25      | 2.4748737 | 5.25      | 3.5       |  7.0      | 3.5       |\n",
       "| x3 | 9.50      | 0.7071068 | 9.50      | 9.0       | 10.0      | 1.0       |\n",
       "\n"
      ],
      "text/plain": [
       "   mean sd        median min max  range\n",
       "x1 2.25 0.3535534 2.25   2.0  2.5 0.5  \n",
       "x2 5.25 2.4748737 5.25   3.5  7.0 3.5  \n",
       "x3 9.50 0.7071068 9.50   9.0 10.0 1.0  "
      ]
     },
     "metadata": {},
     "output_type": "display_data"
    }
   ],
   "source": [
    "as.data.frame(describe(df[1:2,2:4]))[,c(3:5,8:10)]"
   ]
  },
  {
   "cell_type": "markdown",
   "metadata": {},
   "source": [
    "## Exercise 9\n",
    "\n",
    "Select the most frequently occuring value in variable `x2` (from the full dataset).\n",
    "\n",
    "You may want to use these function(s):\n",
    "* max()\n",
    "* table()\n",
    "* names()\n",
    "* as.numeric()\n",
    "\n",
    "Note: `==` is the operator to test for equivalence.<br>\n",
    "Note: You can use the vector of boolean values in criterion-based selection.<br>\n",
    "Note: `x2` is a numeric variable, not a categorical (factor) variable."
   ]
  },
  {
   "cell_type": "code",
   "execution_count": 143,
   "metadata": {},
   "outputs": [
    {
     "data": {
      "text/html": [
       "7"
      ],
      "text/latex": [
       "7"
      ],
      "text/markdown": [
       "7"
      ],
      "text/plain": [
       "[1] 7"
      ]
     },
     "metadata": {},
     "output_type": "display_data"
    }
   ],
   "source": [
    "as.numeric(names(table(df$x2))[table(df$x2) == max(table(df$x2))])\n"
   ]
  },
  {
   "cell_type": "markdown",
   "metadata": {},
   "source": [
    "## Exercise 10\n",
    "\n",
    "Use named-based selection to reorder variables as `name`, `x3`, `x2`, and `x1`, and use criterion-based selection to select only the observations where `x1` is greater than 2 and not equal to `x3` (from the full dataset).  Then add a synthetic variable that expresses the means of the numeric variables.  Then use an observation offset to add a synthetic variable that expresses the difference between the means of adjecent observations.\n",
    "\n",
    "You may want to use these function(s):\n",
    "* rowMeans()\n",
    "\n",
    "Note: `!=` is the operator to test for non-equivalence."
   ]
  },
  {
   "cell_type": "code",
   "execution_count": 144,
   "metadata": {},
   "outputs": [
    {
     "data": {
      "text/html": [
       "<table>\n",
       "<thead><tr><th></th><th scope=col>name</th><th scope=col>x3</th><th scope=col>x2</th><th scope=col>x1</th></tr></thead>\n",
       "<tbody>\n",
       "\t<tr><th scope=row>1</th><td>A  </td><td>9.0</td><td>7.0</td><td>2.5</td></tr>\n",
       "\t<tr><th scope=row>3</th><td>C  </td><td>1.0</td><td>1.0</td><td>9.0</td></tr>\n",
       "\t<tr><th scope=row>4</th><td>D  </td><td>2.0</td><td>7.0</td><td>6.5</td></tr>\n",
       "\t<tr><th scope=row>5</th><td>E  </td><td>1.5</td><td>2.5</td><td>8.0</td></tr>\n",
       "\t<tr><th scope=row>6</th><td>F  </td><td>9.0</td><td>8.5</td><td>4.0</td></tr>\n",
       "</tbody>\n",
       "</table>\n"
      ],
      "text/latex": [
       "\\begin{tabular}{r|llll}\n",
       "  & name & x3 & x2 & x1\\\\\n",
       "\\hline\n",
       "\t1 & A   & 9.0 & 7.0 & 2.5\\\\\n",
       "\t3 & C   & 1.0 & 1.0 & 9.0\\\\\n",
       "\t4 & D   & 2.0 & 7.0 & 6.5\\\\\n",
       "\t5 & E   & 1.5 & 2.5 & 8.0\\\\\n",
       "\t6 & F   & 9.0 & 8.5 & 4.0\\\\\n",
       "\\end{tabular}\n"
      ],
      "text/markdown": [
       "\n",
       "| <!--/--> | name | x3 | x2 | x1 |\n",
       "|---|---|---|---|---|\n",
       "| 1 | A   | 9.0 | 7.0 | 2.5 |\n",
       "| 3 | C   | 1.0 | 1.0 | 9.0 |\n",
       "| 4 | D   | 2.0 | 7.0 | 6.5 |\n",
       "| 5 | E   | 1.5 | 2.5 | 8.0 |\n",
       "| 6 | F   | 9.0 | 8.5 | 4.0 |\n",
       "\n"
      ],
      "text/plain": [
       "  name x3  x2  x1 \n",
       "1 A    9.0 7.0 2.5\n",
       "3 C    1.0 1.0 9.0\n",
       "4 D    2.0 7.0 6.5\n",
       "5 E    1.5 2.5 8.0\n",
       "6 F    9.0 8.5 4.0"
      ]
     },
     "metadata": {},
     "output_type": "display_data"
    }
   ],
   "source": [
    "reordered_df = df[(df$x1 > 2) & (df$x1 != df$x3), c(\"name\", \"x3\", \"x2\", \"x1\")]\n",
    "reordered_df"
   ]
  },
  {
   "cell_type": "code",
   "execution_count": 145,
   "metadata": {},
   "outputs": [
    {
     "data": {
      "text/html": [
       "<table>\n",
       "<thead><tr><th></th><th scope=col>name</th><th scope=col>x3</th><th scope=col>x2</th><th scope=col>x1</th><th scope=col>mean</th></tr></thead>\n",
       "<tbody>\n",
       "\t<tr><th scope=row>1</th><td>A       </td><td>9.0     </td><td>7.0     </td><td>2.5     </td><td>6.166667</td></tr>\n",
       "\t<tr><th scope=row>3</th><td>C       </td><td>1.0     </td><td>1.0     </td><td>9.0     </td><td>3.666667</td></tr>\n",
       "\t<tr><th scope=row>4</th><td>D       </td><td>2.0     </td><td>7.0     </td><td>6.5     </td><td>5.166667</td></tr>\n",
       "\t<tr><th scope=row>5</th><td>E       </td><td>1.5     </td><td>2.5     </td><td>8.0     </td><td>4.000000</td></tr>\n",
       "\t<tr><th scope=row>6</th><td>F       </td><td>9.0     </td><td>8.5     </td><td>4.0     </td><td>7.166667</td></tr>\n",
       "</tbody>\n",
       "</table>\n"
      ],
      "text/latex": [
       "\\begin{tabular}{r|lllll}\n",
       "  & name & x3 & x2 & x1 & mean\\\\\n",
       "\\hline\n",
       "\t1 & A        & 9.0      & 7.0      & 2.5      & 6.166667\\\\\n",
       "\t3 & C        & 1.0      & 1.0      & 9.0      & 3.666667\\\\\n",
       "\t4 & D        & 2.0      & 7.0      & 6.5      & 5.166667\\\\\n",
       "\t5 & E        & 1.5      & 2.5      & 8.0      & 4.000000\\\\\n",
       "\t6 & F        & 9.0      & 8.5      & 4.0      & 7.166667\\\\\n",
       "\\end{tabular}\n"
      ],
      "text/markdown": [
       "\n",
       "| <!--/--> | name | x3 | x2 | x1 | mean |\n",
       "|---|---|---|---|---|---|\n",
       "| 1 | A        | 9.0      | 7.0      | 2.5      | 6.166667 |\n",
       "| 3 | C        | 1.0      | 1.0      | 9.0      | 3.666667 |\n",
       "| 4 | D        | 2.0      | 7.0      | 6.5      | 5.166667 |\n",
       "| 5 | E        | 1.5      | 2.5      | 8.0      | 4.000000 |\n",
       "| 6 | F        | 9.0      | 8.5      | 4.0      | 7.166667 |\n",
       "\n"
      ],
      "text/plain": [
       "  name x3  x2  x1  mean    \n",
       "1 A    9.0 7.0 2.5 6.166667\n",
       "3 C    1.0 1.0 9.0 3.666667\n",
       "4 D    2.0 7.0 6.5 5.166667\n",
       "5 E    1.5 2.5 8.0 4.000000\n",
       "6 F    9.0 8.5 4.0 7.166667"
      ]
     },
     "metadata": {},
     "output_type": "display_data"
    }
   ],
   "source": [
    "means = rowMeans(reordered_df[,2:4])\n",
    "reordered_df$mean = means\n",
    "reordered_df"
   ]
  },
  {
   "cell_type": "code",
   "execution_count": 146,
   "metadata": {},
   "outputs": [
    {
     "name": "stderr",
     "output_type": "stream",
     "text": [
      "Warning message in reordered_df$mean - diff_df$mean:\n",
      "“longer object length is not a multiple of shorter object length”\n"
     ]
    },
    {
     "data": {
      "text/html": [
       "<table>\n",
       "<thead><tr><th></th><th scope=col>name</th><th scope=col>x3</th><th scope=col>x2</th><th scope=col>x1</th><th scope=col>mean</th><th scope=col>diff</th></tr></thead>\n",
       "<tbody>\n",
       "\t<tr><th scope=row>1</th><td>A                </td><td>9.0              </td><td>7.0              </td><td>2.5              </td><td>6.166667         </td><td>2.5              </td></tr>\n",
       "\t<tr><th scope=row>3</th><td>C                </td><td>1.0              </td><td>1.0              </td><td>9.0              </td><td>3.666667         </td><td>-1.5             </td></tr>\n",
       "\t<tr><th scope=row>4</th><td>D                </td><td>2.0              </td><td>7.0              </td><td>6.5              </td><td>5.166667         </td><td>1.16666666666667 </td></tr>\n",
       "\t<tr><th scope=row>5</th><td>E                </td><td>1.5              </td><td>2.5              </td><td>8.0              </td><td>4.000000         </td><td>-3.16666666666667</td></tr>\n",
       "\t<tr><th scope=row>6</th><td>F                </td><td>9.0              </td><td>8.5              </td><td>4.0              </td><td>7.166667         </td><td>NA               </td></tr>\n",
       "</tbody>\n",
       "</table>\n"
      ],
      "text/latex": [
       "\\begin{tabular}{r|llllll}\n",
       "  & name & x3 & x2 & x1 & mean & diff\\\\\n",
       "\\hline\n",
       "\t1 & A                 & 9.0               & 7.0               & 2.5               & 6.166667          & 2.5              \\\\\n",
       "\t3 & C                 & 1.0               & 1.0               & 9.0               & 3.666667          & -1.5             \\\\\n",
       "\t4 & D                 & 2.0               & 7.0               & 6.5               & 5.166667          & 1.16666666666667 \\\\\n",
       "\t5 & E                 & 1.5               & 2.5               & 8.0               & 4.000000          & -3.16666666666667\\\\\n",
       "\t6 & F                 & 9.0               & 8.5               & 4.0               & 7.166667          & NA               \\\\\n",
       "\\end{tabular}\n"
      ],
      "text/markdown": [
       "\n",
       "| <!--/--> | name | x3 | x2 | x1 | mean | diff |\n",
       "|---|---|---|---|---|---|---|\n",
       "| 1 | A                 | 9.0               | 7.0               | 2.5               | 6.166667          | 2.5               |\n",
       "| 3 | C                 | 1.0               | 1.0               | 9.0               | 3.666667          | -1.5              |\n",
       "| 4 | D                 | 2.0               | 7.0               | 6.5               | 5.166667          | 1.16666666666667  |\n",
       "| 5 | E                 | 1.5               | 2.5               | 8.0               | 4.000000          | -3.16666666666667 |\n",
       "| 6 | F                 | 9.0               | 8.5               | 4.0               | 7.166667          | NA                |\n",
       "\n"
      ],
      "text/plain": [
       "  name x3  x2  x1  mean     diff             \n",
       "1 A    9.0 7.0 2.5 6.166667 2.5              \n",
       "3 C    1.0 1.0 9.0 3.666667 -1.5             \n",
       "4 D    2.0 7.0 6.5 5.166667 1.16666666666667 \n",
       "5 E    1.5 2.5 8.0 4.000000 -3.16666666666667\n",
       "6 F    9.0 8.5 4.0 7.166667 NA               "
      ]
     },
     "metadata": {},
     "output_type": "display_data"
    }
   ],
   "source": [
    "diff_df = reordered_df[2:5,]\n",
    "diffs = reordered_df$mean - diff_df$mean\n",
    "diffs[5] = \"NA\"\n",
    "reordered_df$diff = diffs\n",
    "reordered_df"
   ]
  },
  {
   "cell_type": "markdown",
   "metadata": {},
   "source": [
    "<font size=1;>\n",
    "<p style=\"text-align: left;\">\n",
    "Copyright (c) Berkeley Data Analytics Group, LLC\n",
    "<span style=\"float: right;\">\n",
    "Document revised February 29, 2020\n",
    "</span>\n",
    "</p>\n",
    "</font>"
   ]
  }
 ],
 "metadata": {
  "hide_code_all_hidden": false,
  "hide_input": false,
  "kernelspec": {
   "display_name": "R",
   "language": "R",
   "name": "ir"
  },
  "language_info": {
   "codemirror_mode": "r",
   "file_extension": ".r",
   "mimetype": "text/x-r-source",
   "name": "R",
   "pygments_lexer": "r",
   "version": "3.6.3"
  },
  "toc": {
   "base_numbering": 1,
   "nav_menu": {},
   "number_sections": false,
   "sideBar": true,
   "skip_h1_title": true,
   "title_cell": "Table of Contents",
   "title_sidebar": "Contents",
   "toc_cell": false,
   "toc_position": {},
   "toc_section_display": true,
   "toc_window_display": true
  }
 },
 "nbformat": 4,
 "nbformat_minor": 2
}
