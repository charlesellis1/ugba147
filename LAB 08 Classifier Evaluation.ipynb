{
 "cells": [
  {
   "cell_type": "markdown",
   "metadata": {
    "hideCode": false,
    "hidePrompt": false
   },
   "source": [
    "#  Classifier Evaluation"
   ]
  },
  {
   "cell_type": "markdown",
   "metadata": {},
   "source": [
    "**Write and execute R code in the code cells per the instructions.  The expected results are provided for you directly following the code cells.**"
   ]
  },
  {
   "cell_type": "code",
   "execution_count": 150,
   "metadata": {},
   "outputs": [
    {
     "data": {
      "text/html": [
       "<p style=\"text-align:center; font-size:10px;\">\n",
       ".................................................... start of document ....................................................\n",
       "</p>"
      ]
     },
     "metadata": {},
     "output_type": "display_data"
    }
   ],
   "source": [
    "f = \"setup.R\"; for (i in 1:10) { if (file.exists(f)) break else f = paste0(\"../\", f) }; source(f)"
   ]
  },
  {
   "cell_type": "markdown",
   "metadata": {},
   "source": [
    "## Business Model\n",
    "\n",
    "Our company has 1000 prospective customers, of which we expect 50 to buy our product - but we are not sure which customers those are.  The cost to meet with a prospective customer is \\\\$4500.  The revenue from a customer that buys our product is \\\\$100000."
   ]
  },
  {
   "cell_type": "code",
   "execution_count": 151,
   "metadata": {},
   "outputs": [
    {
     "data": {
      "text/html": [
       "<table>\n",
       "<thead><tr><th scope=col>profit.baseline</th></tr></thead>\n",
       "<tbody>\n",
       "\t<tr><td>500000</td></tr>\n",
       "</tbody>\n",
       "</table>\n"
      ],
      "text/latex": [
       "\\begin{tabular}{r|l}\n",
       " profit.baseline\\\\\n",
       "\\hline\n",
       "\t 500000\\\\\n",
       "\\end{tabular}\n"
      ],
      "text/markdown": [
       "\n",
       "| profit.baseline |\n",
       "|---|\n",
       "| 500000 |\n",
       "\n"
      ],
      "text/plain": [
       "  profit.baseline\n",
       "1 500000         "
      ]
     },
     "metadata": {},
     "output_type": "display_data"
    }
   ],
   "source": [
    "prospects = 1000\n",
    "buyers = 50\n",
    "passers = 1000-50\n",
    "cost = 4500\n",
    "revenue = 100000\n",
    "\n",
    "profit.baseline = buyers*revenue - prospects*cost\n",
    "data.frame(profit.baseline)"
   ]
  },
  {
   "cell_type": "markdown",
   "metadata": {},
   "source": [
    "## Business Decision\n",
    "\n",
    "Which prospects should we meet so that we maximize profit?\n",
    "\n",
    "The approach will be to build a model to predict which prospects will buy based on their market research scores, and then meet only with those prospects."
   ]
  },
  {
   "cell_type": "markdown",
   "metadata": {},
   "source": [
    "## Data\n",
    "\n",
    "Here is some data about past customers.  Each customer is associated with two scores, x1 and x2, that were measured by a market research company.  Also, each customer is known to have either bought our company's product or passed on an opportunity to buy our company's product."
   ]
  },
  {
   "cell_type": "code",
   "execution_count": 152,
   "metadata": {
    "scrolled": true
   },
   "outputs": [
    {
     "data": {
      "text/html": [
       "<table>\n",
       "<thead><tr><th scope=col>observations</th><th scope=col>variables</th></tr></thead>\n",
       "<tbody>\n",
       "\t<tr><td>72</td><td>3 </td></tr>\n",
       "</tbody>\n",
       "</table>\n"
      ],
      "text/latex": [
       "\\begin{tabular}{r|ll}\n",
       " observations & variables\\\\\n",
       "\\hline\n",
       "\t 72 & 3 \\\\\n",
       "\\end{tabular}\n"
      ],
      "text/markdown": [
       "\n",
       "| observations | variables |\n",
       "|---|---|\n",
       "| 72 | 3  |\n",
       "\n"
      ],
      "text/plain": [
       "  observations variables\n",
       "1 72           3        "
      ]
     },
     "metadata": {},
     "output_type": "display_data"
    },
    {
     "data": {
      "text/html": [
       "<table>\n",
       "<thead><tr><th scope=col>x1</th><th scope=col>x2</th><th scope=col>class</th></tr></thead>\n",
       "<tbody>\n",
       "\t<tr><td>1   </td><td>3   </td><td>buy </td></tr>\n",
       "\t<tr><td>2   </td><td>2   </td><td>buy </td></tr>\n",
       "\t<tr><td>3   </td><td>6   </td><td>buy </td></tr>\n",
       "\t<tr><td>4   </td><td>5   </td><td>buy </td></tr>\n",
       "\t<tr><td>3   </td><td>4   </td><td>buy </td></tr>\n",
       "\t<tr><td>2   </td><td>5   </td><td>buy </td></tr>\n",
       "\t<tr><td>5   </td><td>3   </td><td>buy </td></tr>\n",
       "\t<tr><td>4   </td><td>8   </td><td>buy </td></tr>\n",
       "\t<tr><td>3   </td><td>9   </td><td>buy </td></tr>\n",
       "\t<tr><td>2   </td><td>0   </td><td>buy </td></tr>\n",
       "\t<tr><td>5   </td><td>0   </td><td>buy </td></tr>\n",
       "\t<tr><td>3   </td><td>9   </td><td>buy </td></tr>\n",
       "\t<tr><td>3   </td><td>7   </td><td>buy </td></tr>\n",
       "\t<tr><td>2   </td><td>4   </td><td>buy </td></tr>\n",
       "\t<tr><td>3   </td><td>5   </td><td>buy </td></tr>\n",
       "\t<tr><td>1   </td><td>5   </td><td>buy </td></tr>\n",
       "\t<tr><td>1   </td><td>4   </td><td>buy </td></tr>\n",
       "\t<tr><td>5   </td><td>5   </td><td>buy </td></tr>\n",
       "\t<tr><td>4   </td><td>6   </td><td>pass</td></tr>\n",
       "\t<tr><td>1   </td><td>3   </td><td>pass</td></tr>\n",
       "\t<tr><td>5   </td><td>2   </td><td>pass</td></tr>\n",
       "\t<tr><td>1   </td><td>4   </td><td>pass</td></tr>\n",
       "\t<tr><td>0   </td><td>3   </td><td>pass</td></tr>\n",
       "\t<tr><td>0   </td><td>5   </td><td>pass</td></tr>\n",
       "\t<tr><td>1   </td><td>4   </td><td>pass</td></tr>\n",
       "\t<tr><td>2   </td><td>6   </td><td>pass</td></tr>\n",
       "\t<tr><td>2   </td><td>5   </td><td>pass</td></tr>\n",
       "\t<tr><td>5   </td><td>1   </td><td>pass</td></tr>\n",
       "\t<tr><td>1   </td><td>2   </td><td>pass</td></tr>\n",
       "\t<tr><td>3   </td><td>3   </td><td>pass</td></tr>\n",
       "\t<tr><td>⋮</td><td>⋮</td><td>⋮</td></tr>\n",
       "\t<tr><td>5   </td><td>3   </td><td>buy </td></tr>\n",
       "\t<tr><td>4   </td><td>8   </td><td>buy </td></tr>\n",
       "\t<tr><td>3   </td><td>5   </td><td>buy </td></tr>\n",
       "\t<tr><td>4   </td><td>5   </td><td>buy </td></tr>\n",
       "\t<tr><td>5   </td><td>0   </td><td>buy </td></tr>\n",
       "\t<tr><td>3   </td><td>9   </td><td>buy </td></tr>\n",
       "\t<tr><td>3   </td><td>7   </td><td>buy </td></tr>\n",
       "\t<tr><td>2   </td><td>4   </td><td>buy </td></tr>\n",
       "\t<tr><td>3   </td><td>5   </td><td>buy </td></tr>\n",
       "\t<tr><td>1   </td><td>5   </td><td>buy </td></tr>\n",
       "\t<tr><td>2   </td><td>4   </td><td>buy </td></tr>\n",
       "\t<tr><td>5   </td><td>5   </td><td>buy </td></tr>\n",
       "\t<tr><td>4   </td><td>7   </td><td>pass</td></tr>\n",
       "\t<tr><td>1   </td><td>3   </td><td>pass</td></tr>\n",
       "\t<tr><td>5   </td><td>2   </td><td>pass</td></tr>\n",
       "\t<tr><td>1   </td><td>4   </td><td>pass</td></tr>\n",
       "\t<tr><td>1   </td><td>3   </td><td>pass</td></tr>\n",
       "\t<tr><td>1   </td><td>4   </td><td>pass</td></tr>\n",
       "\t<tr><td>1   </td><td>4   </td><td>pass</td></tr>\n",
       "\t<tr><td>2   </td><td>6   </td><td>pass</td></tr>\n",
       "\t<tr><td>2   </td><td>5   </td><td>pass</td></tr>\n",
       "\t<tr><td>5   </td><td>1   </td><td>pass</td></tr>\n",
       "\t<tr><td>1   </td><td>2   </td><td>pass</td></tr>\n",
       "\t<tr><td>3   </td><td>3   </td><td>pass</td></tr>\n",
       "\t<tr><td>1   </td><td>4   </td><td>pass</td></tr>\n",
       "\t<tr><td>2   </td><td>5   </td><td>pass</td></tr>\n",
       "\t<tr><td>3   </td><td>4   </td><td>pass</td></tr>\n",
       "\t<tr><td>4   </td><td>3   </td><td>pass</td></tr>\n",
       "\t<tr><td>5   </td><td>4   </td><td>pass</td></tr>\n",
       "\t<tr><td>6   </td><td>8   </td><td>pass</td></tr>\n",
       "</tbody>\n",
       "</table>\n"
      ],
      "text/latex": [
       "\\begin{tabular}{r|lll}\n",
       " x1 & x2 & class\\\\\n",
       "\\hline\n",
       "\t 1    & 3    & buy \\\\\n",
       "\t 2    & 2    & buy \\\\\n",
       "\t 3    & 6    & buy \\\\\n",
       "\t 4    & 5    & buy \\\\\n",
       "\t 3    & 4    & buy \\\\\n",
       "\t 2    & 5    & buy \\\\\n",
       "\t 5    & 3    & buy \\\\\n",
       "\t 4    & 8    & buy \\\\\n",
       "\t 3    & 9    & buy \\\\\n",
       "\t 2    & 0    & buy \\\\\n",
       "\t 5    & 0    & buy \\\\\n",
       "\t 3    & 9    & buy \\\\\n",
       "\t 3    & 7    & buy \\\\\n",
       "\t 2    & 4    & buy \\\\\n",
       "\t 3    & 5    & buy \\\\\n",
       "\t 1    & 5    & buy \\\\\n",
       "\t 1    & 4    & buy \\\\\n",
       "\t 5    & 5    & buy \\\\\n",
       "\t 4    & 6    & pass\\\\\n",
       "\t 1    & 3    & pass\\\\\n",
       "\t 5    & 2    & pass\\\\\n",
       "\t 1    & 4    & pass\\\\\n",
       "\t 0    & 3    & pass\\\\\n",
       "\t 0    & 5    & pass\\\\\n",
       "\t 1    & 4    & pass\\\\\n",
       "\t 2    & 6    & pass\\\\\n",
       "\t 2    & 5    & pass\\\\\n",
       "\t 5    & 1    & pass\\\\\n",
       "\t 1    & 2    & pass\\\\\n",
       "\t 3    & 3    & pass\\\\\n",
       "\t ⋮ & ⋮ & ⋮\\\\\n",
       "\t 5    & 3    & buy \\\\\n",
       "\t 4    & 8    & buy \\\\\n",
       "\t 3    & 5    & buy \\\\\n",
       "\t 4    & 5    & buy \\\\\n",
       "\t 5    & 0    & buy \\\\\n",
       "\t 3    & 9    & buy \\\\\n",
       "\t 3    & 7    & buy \\\\\n",
       "\t 2    & 4    & buy \\\\\n",
       "\t 3    & 5    & buy \\\\\n",
       "\t 1    & 5    & buy \\\\\n",
       "\t 2    & 4    & buy \\\\\n",
       "\t 5    & 5    & buy \\\\\n",
       "\t 4    & 7    & pass\\\\\n",
       "\t 1    & 3    & pass\\\\\n",
       "\t 5    & 2    & pass\\\\\n",
       "\t 1    & 4    & pass\\\\\n",
       "\t 1    & 3    & pass\\\\\n",
       "\t 1    & 4    & pass\\\\\n",
       "\t 1    & 4    & pass\\\\\n",
       "\t 2    & 6    & pass\\\\\n",
       "\t 2    & 5    & pass\\\\\n",
       "\t 5    & 1    & pass\\\\\n",
       "\t 1    & 2    & pass\\\\\n",
       "\t 3    & 3    & pass\\\\\n",
       "\t 1    & 4    & pass\\\\\n",
       "\t 2    & 5    & pass\\\\\n",
       "\t 3    & 4    & pass\\\\\n",
       "\t 4    & 3    & pass\\\\\n",
       "\t 5    & 4    & pass\\\\\n",
       "\t 6    & 8    & pass\\\\\n",
       "\\end{tabular}\n"
      ],
      "text/markdown": [
       "\n",
       "| x1 | x2 | class |\n",
       "|---|---|---|\n",
       "| 1    | 3    | buy  |\n",
       "| 2    | 2    | buy  |\n",
       "| 3    | 6    | buy  |\n",
       "| 4    | 5    | buy  |\n",
       "| 3    | 4    | buy  |\n",
       "| 2    | 5    | buy  |\n",
       "| 5    | 3    | buy  |\n",
       "| 4    | 8    | buy  |\n",
       "| 3    | 9    | buy  |\n",
       "| 2    | 0    | buy  |\n",
       "| 5    | 0    | buy  |\n",
       "| 3    | 9    | buy  |\n",
       "| 3    | 7    | buy  |\n",
       "| 2    | 4    | buy  |\n",
       "| 3    | 5    | buy  |\n",
       "| 1    | 5    | buy  |\n",
       "| 1    | 4    | buy  |\n",
       "| 5    | 5    | buy  |\n",
       "| 4    | 6    | pass |\n",
       "| 1    | 3    | pass |\n",
       "| 5    | 2    | pass |\n",
       "| 1    | 4    | pass |\n",
       "| 0    | 3    | pass |\n",
       "| 0    | 5    | pass |\n",
       "| 1    | 4    | pass |\n",
       "| 2    | 6    | pass |\n",
       "| 2    | 5    | pass |\n",
       "| 5    | 1    | pass |\n",
       "| 1    | 2    | pass |\n",
       "| 3    | 3    | pass |\n",
       "| ⋮ | ⋮ | ⋮ |\n",
       "| 5    | 3    | buy  |\n",
       "| 4    | 8    | buy  |\n",
       "| 3    | 5    | buy  |\n",
       "| 4    | 5    | buy  |\n",
       "| 5    | 0    | buy  |\n",
       "| 3    | 9    | buy  |\n",
       "| 3    | 7    | buy  |\n",
       "| 2    | 4    | buy  |\n",
       "| 3    | 5    | buy  |\n",
       "| 1    | 5    | buy  |\n",
       "| 2    | 4    | buy  |\n",
       "| 5    | 5    | buy  |\n",
       "| 4    | 7    | pass |\n",
       "| 1    | 3    | pass |\n",
       "| 5    | 2    | pass |\n",
       "| 1    | 4    | pass |\n",
       "| 1    | 3    | pass |\n",
       "| 1    | 4    | pass |\n",
       "| 1    | 4    | pass |\n",
       "| 2    | 6    | pass |\n",
       "| 2    | 5    | pass |\n",
       "| 5    | 1    | pass |\n",
       "| 1    | 2    | pass |\n",
       "| 3    | 3    | pass |\n",
       "| 1    | 4    | pass |\n",
       "| 2    | 5    | pass |\n",
       "| 3    | 4    | pass |\n",
       "| 4    | 3    | pass |\n",
       "| 5    | 4    | pass |\n",
       "| 6    | 8    | pass |\n",
       "\n"
      ],
      "text/plain": [
       "   x1 x2 class\n",
       "1  1  3  buy  \n",
       "2  2  2  buy  \n",
       "3  3  6  buy  \n",
       "4  4  5  buy  \n",
       "5  3  4  buy  \n",
       "6  2  5  buy  \n",
       "7  5  3  buy  \n",
       "8  4  8  buy  \n",
       "9  3  9  buy  \n",
       "10 2  0  buy  \n",
       "11 5  0  buy  \n",
       "12 3  9  buy  \n",
       "13 3  7  buy  \n",
       "14 2  4  buy  \n",
       "15 3  5  buy  \n",
       "16 1  5  buy  \n",
       "17 1  4  buy  \n",
       "18 5  5  buy  \n",
       "19 4  6  pass \n",
       "20 1  3  pass \n",
       "21 5  2  pass \n",
       "22 1  4  pass \n",
       "23 0  3  pass \n",
       "24 0  5  pass \n",
       "25 1  4  pass \n",
       "26 2  6  pass \n",
       "27 2  5  pass \n",
       "28 5  1  pass \n",
       "29 1  2  pass \n",
       "30 3  3  pass \n",
       "⋮  ⋮  ⋮  ⋮    \n",
       "43 5  3  buy  \n",
       "44 4  8  buy  \n",
       "45 3  5  buy  \n",
       "46 4  5  buy  \n",
       "47 5  0  buy  \n",
       "48 3  9  buy  \n",
       "49 3  7  buy  \n",
       "50 2  4  buy  \n",
       "51 3  5  buy  \n",
       "52 1  5  buy  \n",
       "53 2  4  buy  \n",
       "54 5  5  buy  \n",
       "55 4  7  pass \n",
       "56 1  3  pass \n",
       "57 5  2  pass \n",
       "58 1  4  pass \n",
       "59 1  3  pass \n",
       "60 1  4  pass \n",
       "61 1  4  pass \n",
       "62 2  6  pass \n",
       "63 2  5  pass \n",
       "64 5  1  pass \n",
       "65 1  2  pass \n",
       "66 3  3  pass \n",
       "67 1  4  pass \n",
       "68 2  5  pass \n",
       "69 3  4  pass \n",
       "70 4  3  pass \n",
       "71 5  4  pass \n",
       "72 6  8  pass "
      ]
     },
     "metadata": {},
     "output_type": "display_data"
    }
   ],
   "source": [
    "data = data.frame(x1=c(1,2,3,4,3,2,5,4,3,2,5,3,3,2,3,1,1,5,4,1,5,1,0,0,1,2,2,5,1,3,1,2,3,4,5,6,\n",
    "                       1,3,3,6,3,2,5,4,3,4,5,3,3,2,3,1,2,5,4,1,5,1,1,1,1,2,2,5,1,3,1,2,3,4,5,6),\n",
    "                  x2=c(3,2,6,5,4,5,3,8,9,0,0,9,7,4,5,5,4,5,6,3,2,4,3,5,4,6,5,1,2,3,4,5,4,3,4,8,\n",
    "                       3,2,6,5,4,5,3,8,5,5,0,9,7,4,5,5,4,5,7,3,2,4,3,4,4,6,5,1,2,3,4,5,4,3,4,8),\n",
    "                  class=c(\"buy\",\"buy\",\"buy\",\"buy\",\"buy\",\"buy\",\"buy\",\"buy\",\"buy\",\"buy\",\"buy\",\"buy\",\"buy\",\"buy\",\"buy\",\"buy\",\"buy\",\"buy\",\n",
    "                          \"pass\",\"pass\",\"pass\",\"pass\",\"pass\",\"pass\",\"pass\",\"pass\",\"pass\",\"pass\",\"pass\",\"pass\",\"pass\",\"pass\",\"pass\",\"pass\",\"pass\",\"pass\",\n",
    "                          \"buy\",\"buy\",\"buy\",\"pass\",\"buy\",\"buy\",\"buy\",\"buy\",\"buy\",\"buy\",\"buy\",\"buy\",\"buy\",\"buy\",\"buy\",\"buy\",\"buy\",\"buy\",\n",
    "                          \"pass\",\"pass\",\"pass\",\"pass\",\"pass\",\"pass\",\"pass\",\"pass\",\"pass\",\"pass\",\"pass\",\"pass\",\"pass\",\"pass\",\"pass\",\"pass\",\"pass\",\"pass\"))\n",
    "\n",
    "size(data)\n",
    "data"
   ]
  },
  {
   "cell_type": "code",
   "execution_count": 153,
   "metadata": {},
   "outputs": [
    {
     "data": {
      "text/html": [
       "37"
      ],
      "text/latex": [
       "37"
      ],
      "text/markdown": [
       "37"
      ],
      "text/plain": [
       "[1] 37"
      ]
     },
     "metadata": {},
     "output_type": "display_data"
    }
   ],
   "source": [
    "length(which(data$class==\"pass\"))"
   ]
  },
  {
   "cell_type": "markdown",
   "metadata": {},
   "source": [
    "## Problem 1\n",
    "\n",
    "Build a naive Bayes model based on the data to predict which prospects will buy.\n",
    "\n",
    "You may want to use these function(s):\n",
    "* naiveBayes()"
   ]
  },
  {
   "cell_type": "code",
   "execution_count": 154,
   "metadata": {},
   "outputs": [
    {
     "data": {
      "text/plain": [
       "\n",
       "Naive Bayes Classifier for Discrete Predictors\n",
       "\n",
       "Call:\n",
       "naiveBayes.default(x = X, y = Y, laplace = laplace)\n",
       "\n",
       "A-priori probabilities:\n",
       "Y\n",
       "      buy      pass \n",
       "0.4861111 0.5138889 \n",
       "\n",
       "Conditional probabilities:\n",
       "      x1\n",
       "Y          [,1]     [,2]\n",
       "  buy  2.971429 1.271537\n",
       "  pass 2.702703 1.853898\n",
       "\n",
       "      x2\n",
       "Y          [,1]     [,2]\n",
       "  buy  4.685714 2.348609\n",
       "  pass 4.027027 1.674755\n"
      ]
     },
     "metadata": {},
     "output_type": "display_data"
    }
   ],
   "source": [
    "model = naiveBayes(class ~ x1+x2, data)\n",
    "model"
   ]
  },
  {
   "cell_type": "markdown",
   "metadata": {},
   "source": [
    "## Problem 2: Evaluation by Insample\n",
    "\n",
    "Make predictions based on the data (\"buy\" cutoff=0.5) and show the resulting confusion matrix, accuracy, & business metric of the model in terms of profit.\n",
    "\n",
    "You may want to use these function(s):\n",
    "* colnames()\n",
    "* predict()\n",
    "* as.class()\n",
    "* confusionMatrix()\n",
    "* round()\n",
    "\n",
    "To calculate profit, develop a formula that relies on the confusion matrix.  In the formula, round to the nearest whole number of prospects as appropriate.  "
   ]
  },
  {
   "cell_type": "code",
   "execution_count": 155,
   "metadata": {},
   "outputs": [
    {
     "data": {
      "text/html": [
       "<table>\n",
       "<caption><center><font color=\"black\"><b>cm</b></font></center></caption>\n",
       " <thead>\n",
       "  <tr>\n",
       "   <th style=\"text-align:left;background-color: #FFFFFF !important;\">   </th>\n",
       "   <th style=\"text-align:right;background-color: #FFFFFF !important;\"> buy </th>\n",
       "   <th style=\"text-align:right;background-color: #FFFFFF !important;\"> pass </th>\n",
       "  </tr>\n",
       " </thead>\n",
       "<tbody>\n",
       "  <tr>\n",
       "   <td style=\"text-align:left;font-weight: bold;\"> buy </td>\n",
       "   <td style=\"text-align:right;\"> 0.2500000 </td>\n",
       "   <td style=\"text-align:right;\"> 0.0833333 </td>\n",
       "  </tr>\n",
       "  <tr>\n",
       "   <td style=\"text-align:left;font-weight: bold;\"> pass </td>\n",
       "   <td style=\"text-align:right;\"> 0.2361111 </td>\n",
       "   <td style=\"text-align:right;\"> 0.4305556 </td>\n",
       "  </tr>\n",
       "</tbody>\n",
       "</table>"
      ]
     },
     "metadata": {},
     "output_type": "display_data"
    },
    {
     "data": {
      "text/html": [
       "<table>\n",
       " <thead>\n",
       "  <tr>\n",
       "   <th style=\"text-align:right;background-color: #FFFFFF !important;\"> insample_accuracy </th>\n",
       "  </tr>\n",
       " </thead>\n",
       "<tbody>\n",
       "  <tr>\n",
       "   <td style=\"text-align:right;\"> 0.6805556 </td>\n",
       "  </tr>\n",
       "</tbody>\n",
       "</table>"
      ]
     },
     "metadata": {},
     "output_type": "display_data"
    }
   ],
   "source": [
    "prob = predict(model, data, type=\"raw\") # predict function uses only predictor variables (e.g., x1 & x2)\n",
    "class.predicted = as.class(prob, class=\"buy\", cutoff=0.5)\n",
    "\n",
    "CM = confusionMatrix(class.predicted, data$class)$table\n",
    "cm = CM / sum(CM)\n",
    "\n",
    "fmt.cm(cm)\n",
    "\n",
    "insample_accuracy = (cm[1,1]+cm[2,2])/sum(cm)\n",
    "fmt(insample_accuracy)"
   ]
  },
  {
   "cell_type": "code",
   "execution_count": 156,
   "metadata": {},
   "outputs": [
    {
     "data": {
      "text/html": [
       "<table>\n",
       "<thead><tr><th scope=col>buy_buy</th><th scope=col>pass_buy</th><th scope=col>buy_pass</th><th scope=col>pass_pass</th><th scope=col>insample_profit</th></tr></thead>\n",
       "<tbody>\n",
       "\t<tr><td>2483000</td><td>0      </td><td>-693000</td><td>0      </td><td>1790000</td></tr>\n",
       "</tbody>\n",
       "</table>\n"
      ],
      "text/latex": [
       "\\begin{tabular}{r|lllll}\n",
       " buy\\_buy & pass\\_buy & buy\\_pass & pass\\_pass & insample\\_profit\\\\\n",
       "\\hline\n",
       "\t 2483000 & 0       & -693000 & 0       & 1790000\\\\\n",
       "\\end{tabular}\n"
      ],
      "text/markdown": [
       "\n",
       "| buy_buy | pass_buy | buy_pass | pass_pass | insample_profit |\n",
       "|---|---|---|---|---|\n",
       "| 2483000 | 0       | -693000 | 0       | 1790000 |\n",
       "\n"
      ],
      "text/plain": [
       "  buy_buy pass_buy buy_pass pass_pass insample_profit\n",
       "1 2483000 0        -693000  0         1790000        "
      ]
     },
     "metadata": {},
     "output_type": "display_data"
    }
   ],
   "source": [
    "bb = cm[1,1]\n",
    "pb = cm[2,1]\n",
    "buyers = round((bb / (bb + pb)) * 50)\n",
    "profit = buyers*revenue - buyers*cost\n",
    "\n",
    "\n",
    "bp = cm[1,2]\n",
    "pp = cm[2,2]\n",
    "\n",
    "buyers2 = round((bp / (bp + pp)) * passers)\n",
    "profit2 = 0 - buyers2*cost\n",
    "\n",
    "data.frame(buy_buy=profit,\n",
    "           pass_buy=0,\n",
    "           buy_pass=profit2,\n",
    "           pass_pass=0,\n",
    "           insample_profit=profit+profit2)"
   ]
  },
  {
   "cell_type": "markdown",
   "metadata": {},
   "source": [
    "## Problem 3: Evaluation by Cross-Validation\n",
    "\n",
    "Partition the data into 5 test folds.\n",
    "\n",
    "For each fold, build a naive Bayes model based on training data, make predictions based on test data (\"buy\" cutoff=0.5), and show the resulting confusion matrix, accuracy, & business metric in terms of profit.\n",
    "\n",
    "Show the model, its cross-validation accuracy, & its cross-validation business value in terms of profit.\n",
    "\n",
    "You may want to use these function(s):\n",
    "* set.seed()\n",
    "* createFolds()\n",
    "* setdiff()\n",
    "* colnames()\n",
    "* naiveBayes()\n",
    "* predict()\n",
    "* as.class()\n",
    "* confusionMatrix()\n",
    "* round()\n",
    "\n",
    "Use `set.seed(12345)` and `createFolds(..., k=5)` to do the partitioning."
   ]
  },
  {
   "cell_type": "code",
   "execution_count": 157,
   "metadata": {
    "scrolled": true
   },
   "outputs": [
    {
     "data": {
      "text/html": [
       "<dl>\n",
       "\t<dt>$Fold1</dt>\n",
       "\t\t<dd><ol class=list-inline>\n",
       "\t<li>2</li>\n",
       "\t<li>3</li>\n",
       "\t<li>8</li>\n",
       "\t<li>9</li>\n",
       "\t<li>13</li>\n",
       "\t<li>21</li>\n",
       "\t<li>29</li>\n",
       "\t<li>32</li>\n",
       "\t<li>39</li>\n",
       "\t<li>44</li>\n",
       "\t<li>59</li>\n",
       "\t<li>60</li>\n",
       "\t<li>63</li>\n",
       "\t<li>71</li>\n",
       "</ol>\n",
       "</dd>\n",
       "\t<dt>$Fold2</dt>\n",
       "\t\t<dd><ol class=list-inline>\n",
       "\t<li>10</li>\n",
       "\t<li>11</li>\n",
       "\t<li>12</li>\n",
       "\t<li>14</li>\n",
       "\t<li>16</li>\n",
       "\t<li>19</li>\n",
       "\t<li>26</li>\n",
       "\t<li>36</li>\n",
       "\t<li>41</li>\n",
       "\t<li>51</li>\n",
       "\t<li>55</li>\n",
       "\t<li>56</li>\n",
       "\t<li>57</li>\n",
       "\t<li>61</li>\n",
       "</ol>\n",
       "</dd>\n",
       "\t<dt>$Fold3</dt>\n",
       "\t\t<dd><ol class=list-inline>\n",
       "\t<li>4</li>\n",
       "\t<li>6</li>\n",
       "\t<li>17</li>\n",
       "\t<li>28</li>\n",
       "\t<li>31</li>\n",
       "\t<li>33</li>\n",
       "\t<li>37</li>\n",
       "\t<li>45</li>\n",
       "\t<li>49</li>\n",
       "\t<li>52</li>\n",
       "\t<li>58</li>\n",
       "\t<li>66</li>\n",
       "\t<li>67</li>\n",
       "\t<li>70</li>\n",
       "\t<li>72</li>\n",
       "</ol>\n",
       "</dd>\n",
       "\t<dt>$Fold4</dt>\n",
       "\t\t<dd><ol class=list-inline>\n",
       "\t<li>1</li>\n",
       "\t<li>5</li>\n",
       "\t<li>7</li>\n",
       "\t<li>22</li>\n",
       "\t<li>25</li>\n",
       "\t<li>34</li>\n",
       "\t<li>35</li>\n",
       "\t<li>42</li>\n",
       "\t<li>43</li>\n",
       "\t<li>46</li>\n",
       "\t<li>53</li>\n",
       "\t<li>64</li>\n",
       "\t<li>65</li>\n",
       "\t<li>68</li>\n",
       "\t<li>69</li>\n",
       "</ol>\n",
       "</dd>\n",
       "\t<dt>$Fold5</dt>\n",
       "\t\t<dd><ol class=list-inline>\n",
       "\t<li>15</li>\n",
       "\t<li>18</li>\n",
       "\t<li>20</li>\n",
       "\t<li>23</li>\n",
       "\t<li>24</li>\n",
       "\t<li>27</li>\n",
       "\t<li>30</li>\n",
       "\t<li>38</li>\n",
       "\t<li>40</li>\n",
       "\t<li>47</li>\n",
       "\t<li>48</li>\n",
       "\t<li>50</li>\n",
       "\t<li>54</li>\n",
       "\t<li>62</li>\n",
       "</ol>\n",
       "</dd>\n",
       "</dl>\n"
      ],
      "text/latex": [
       "\\begin{description}\n",
       "\\item[\\$Fold1] \\begin{enumerate*}\n",
       "\\item 2\n",
       "\\item 3\n",
       "\\item 8\n",
       "\\item 9\n",
       "\\item 13\n",
       "\\item 21\n",
       "\\item 29\n",
       "\\item 32\n",
       "\\item 39\n",
       "\\item 44\n",
       "\\item 59\n",
       "\\item 60\n",
       "\\item 63\n",
       "\\item 71\n",
       "\\end{enumerate*}\n",
       "\n",
       "\\item[\\$Fold2] \\begin{enumerate*}\n",
       "\\item 10\n",
       "\\item 11\n",
       "\\item 12\n",
       "\\item 14\n",
       "\\item 16\n",
       "\\item 19\n",
       "\\item 26\n",
       "\\item 36\n",
       "\\item 41\n",
       "\\item 51\n",
       "\\item 55\n",
       "\\item 56\n",
       "\\item 57\n",
       "\\item 61\n",
       "\\end{enumerate*}\n",
       "\n",
       "\\item[\\$Fold3] \\begin{enumerate*}\n",
       "\\item 4\n",
       "\\item 6\n",
       "\\item 17\n",
       "\\item 28\n",
       "\\item 31\n",
       "\\item 33\n",
       "\\item 37\n",
       "\\item 45\n",
       "\\item 49\n",
       "\\item 52\n",
       "\\item 58\n",
       "\\item 66\n",
       "\\item 67\n",
       "\\item 70\n",
       "\\item 72\n",
       "\\end{enumerate*}\n",
       "\n",
       "\\item[\\$Fold4] \\begin{enumerate*}\n",
       "\\item 1\n",
       "\\item 5\n",
       "\\item 7\n",
       "\\item 22\n",
       "\\item 25\n",
       "\\item 34\n",
       "\\item 35\n",
       "\\item 42\n",
       "\\item 43\n",
       "\\item 46\n",
       "\\item 53\n",
       "\\item 64\n",
       "\\item 65\n",
       "\\item 68\n",
       "\\item 69\n",
       "\\end{enumerate*}\n",
       "\n",
       "\\item[\\$Fold5] \\begin{enumerate*}\n",
       "\\item 15\n",
       "\\item 18\n",
       "\\item 20\n",
       "\\item 23\n",
       "\\item 24\n",
       "\\item 27\n",
       "\\item 30\n",
       "\\item 38\n",
       "\\item 40\n",
       "\\item 47\n",
       "\\item 48\n",
       "\\item 50\n",
       "\\item 54\n",
       "\\item 62\n",
       "\\end{enumerate*}\n",
       "\n",
       "\\end{description}\n"
      ],
      "text/markdown": [
       "$Fold1\n",
       ":   1. 2\n",
       "2. 3\n",
       "3. 8\n",
       "4. 9\n",
       "5. 13\n",
       "6. 21\n",
       "7. 29\n",
       "8. 32\n",
       "9. 39\n",
       "10. 44\n",
       "11. 59\n",
       "12. 60\n",
       "13. 63\n",
       "14. 71\n",
       "\n",
       "\n",
       "\n",
       "$Fold2\n",
       ":   1. 10\n",
       "2. 11\n",
       "3. 12\n",
       "4. 14\n",
       "5. 16\n",
       "6. 19\n",
       "7. 26\n",
       "8. 36\n",
       "9. 41\n",
       "10. 51\n",
       "11. 55\n",
       "12. 56\n",
       "13. 57\n",
       "14. 61\n",
       "\n",
       "\n",
       "\n",
       "$Fold3\n",
       ":   1. 4\n",
       "2. 6\n",
       "3. 17\n",
       "4. 28\n",
       "5. 31\n",
       "6. 33\n",
       "7. 37\n",
       "8. 45\n",
       "9. 49\n",
       "10. 52\n",
       "11. 58\n",
       "12. 66\n",
       "13. 67\n",
       "14. 70\n",
       "15. 72\n",
       "\n",
       "\n",
       "\n",
       "$Fold4\n",
       ":   1. 1\n",
       "2. 5\n",
       "3. 7\n",
       "4. 22\n",
       "5. 25\n",
       "6. 34\n",
       "7. 35\n",
       "8. 42\n",
       "9. 43\n",
       "10. 46\n",
       "11. 53\n",
       "12. 64\n",
       "13. 65\n",
       "14. 68\n",
       "15. 69\n",
       "\n",
       "\n",
       "\n",
       "$Fold5\n",
       ":   1. 15\n",
       "2. 18\n",
       "3. 20\n",
       "4. 23\n",
       "5. 24\n",
       "6. 27\n",
       "7. 30\n",
       "8. 38\n",
       "9. 40\n",
       "10. 47\n",
       "11. 48\n",
       "12. 50\n",
       "13. 54\n",
       "14. 62\n",
       "\n",
       "\n",
       "\n",
       "\n",
       "\n"
      ],
      "text/plain": [
       "$Fold1\n",
       " [1]  2  3  8  9 13 21 29 32 39 44 59 60 63 71\n",
       "\n",
       "$Fold2\n",
       " [1] 10 11 12 14 16 19 26 36 41 51 55 56 57 61\n",
       "\n",
       "$Fold3\n",
       " [1]  4  6 17 28 31 33 37 45 49 52 58 66 67 70 72\n",
       "\n",
       "$Fold4\n",
       " [1]  1  5  7 22 25 34 35 42 43 46 53 64 65 68 69\n",
       "\n",
       "$Fold5\n",
       " [1] 15 18 20 23 24 27 30 38 40 47 48 50 54 62\n"
      ]
     },
     "metadata": {},
     "output_type": "display_data"
    }
   ],
   "source": [
    "set.seed(12345)\n",
    "fold = createFolds(data$class, k=5)\n",
    "fold"
   ]
  },
  {
   "cell_type": "code",
   "execution_count": 158,
   "metadata": {},
   "outputs": [
    {
     "data": {
      "text/html": [
       "<table>\n",
       "<caption><center><font color=\"black\"><b>cm.1</b></font></center></caption>\n",
       " <thead>\n",
       "  <tr>\n",
       "   <th style=\"text-align:left;background-color: #FFFFFF !important;\">   </th>\n",
       "   <th style=\"text-align:right;background-color: #FFFFFF !important;\"> buy </th>\n",
       "   <th style=\"text-align:right;background-color: #FFFFFF !important;\"> pass </th>\n",
       "  </tr>\n",
       " </thead>\n",
       "<tbody>\n",
       "  <tr>\n",
       "   <td style=\"text-align:left;font-weight: bold;\"> buy </td>\n",
       "   <td style=\"text-align:right;\"> 0.5 </td>\n",
       "   <td style=\"text-align:right;\"> 0.0 </td>\n",
       "  </tr>\n",
       "  <tr>\n",
       "   <td style=\"text-align:left;font-weight: bold;\"> pass </td>\n",
       "   <td style=\"text-align:right;\"> 0.0 </td>\n",
       "   <td style=\"text-align:right;\"> 0.5 </td>\n",
       "  </tr>\n",
       "</tbody>\n",
       "</table>"
      ]
     },
     "metadata": {},
     "output_type": "display_data"
    },
    {
     "data": {
      "text/html": [
       "<table>\n",
       " <thead>\n",
       "  <tr>\n",
       "   <th style=\"text-align:right;background-color: #FFFFFF !important;\"> accuracy_1 </th>\n",
       "  </tr>\n",
       " </thead>\n",
       "<tbody>\n",
       "  <tr>\n",
       "   <td style=\"text-align:right;\"> 1 </td>\n",
       "  </tr>\n",
       "</tbody>\n",
       "</table>"
      ]
     },
     "metadata": {},
     "output_type": "display_data"
    },
    {
     "data": {
      "text/html": [
       "<table>\n",
       "<thead><tr><th scope=col>buy_buy</th><th scope=col>pass_buy</th><th scope=col>buy_pass</th><th scope=col>pass_pass</th><th scope=col>insample_profit</th></tr></thead>\n",
       "<tbody>\n",
       "\t<tr><td>4775000</td><td>0      </td><td>0      </td><td>0      </td><td>4775000</td></tr>\n",
       "</tbody>\n",
       "</table>\n"
      ],
      "text/latex": [
       "\\begin{tabular}{r|lllll}\n",
       " buy\\_buy & pass\\_buy & buy\\_pass & pass\\_pass & insample\\_profit\\\\\n",
       "\\hline\n",
       "\t 4775000 & 0       & 0       & 0       & 4775000\\\\\n",
       "\\end{tabular}\n"
      ],
      "text/markdown": [
       "\n",
       "| buy_buy | pass_buy | buy_pass | pass_pass | insample_profit |\n",
       "|---|---|---|---|---|\n",
       "| 4775000 | 0       | 0       | 0       | 4775000 |\n",
       "\n"
      ],
      "text/plain": [
       "  buy_buy pass_buy buy_pass pass_pass insample_profit\n",
       "1 4775000 0        0        0         4775000        "
      ]
     },
     "metadata": {},
     "output_type": "display_data"
    }
   ],
   "source": [
    "accuracy = c(NA, NA, NA, NA, NA)\n",
    "profits = c(NA, NA, NA, NA, NA)\n",
    "\n",
    "data.train = data[setdiff(1:nrow(data), fold[[1]]),]\n",
    "data.dev = data[fold[[1]],]\n",
    "\n",
    "model.1 = naiveBayes(class ~ x1+x2, data.train)\n",
    "prob.1 = predict(model.1, data.dev, type=\"raw\")\n",
    "class.predicted.1 = as.class(prob.1, class=\"buy\", cutoff=0.5)\n",
    "   \n",
    "CM.1 = confusionMatrix(class.predicted.1, data.dev$class)$table\n",
    "cm.1 = CM.1/sum(CM.1)\n",
    "fmt.cm(cm.1)\n",
    "\n",
    "accuracy_1 = cm.1[1,1]+cm.1[2,2]\n",
    "accuracy[1] = accuracy_1\n",
    "fmt(accuracy_1)\n",
    "\n",
    "\n",
    "bb.1 = cm.1[1,1]\n",
    "pb.1 = cm.1[2,1]\n",
    "buyers.1 = round((bb.1 / (bb.1 + pb.1)) * 50)\n",
    "profit.1 = buyers.1*revenue - buyers.1*cost\n",
    "\n",
    "\n",
    "bp.1 = cm.1[1,2]\n",
    "pp.1 = cm.1[2,2]\n",
    "\n",
    "buyers2.1 = round((bp.1 / (bp.1 + pp.1)) * passers)\n",
    "profit2.1 = 0 - buyers2.1*cost\n",
    "\n",
    "profits[1] = profit.1 + profit2.1\n",
    "\n",
    "data.frame(buy_buy=profit.1,\n",
    "           pass_buy=0,\n",
    "           buy_pass=profit2.1,\n",
    "           pass_pass=0,\n",
    "           insample_profit=profit.1+profit2.1)\n"
   ]
  },
  {
   "cell_type": "code",
   "execution_count": 159,
   "metadata": {},
   "outputs": [
    {
     "data": {
      "text/html": [
       "<table>\n",
       "<caption><center><font color=\"black\"><b>cm.2</b></font></center></caption>\n",
       " <thead>\n",
       "  <tr>\n",
       "   <th style=\"text-align:left;background-color: #FFFFFF !important;\">   </th>\n",
       "   <th style=\"text-align:right;background-color: #FFFFFF !important;\"> buy </th>\n",
       "   <th style=\"text-align:right;background-color: #FFFFFF !important;\"> pass </th>\n",
       "  </tr>\n",
       " </thead>\n",
       "<tbody>\n",
       "  <tr>\n",
       "   <td style=\"text-align:left;font-weight: bold;\"> buy </td>\n",
       "   <td style=\"text-align:right;\"> 0.2857143 </td>\n",
       "   <td style=\"text-align:right;\"> 0.2857143 </td>\n",
       "  </tr>\n",
       "  <tr>\n",
       "   <td style=\"text-align:left;font-weight: bold;\"> pass </td>\n",
       "   <td style=\"text-align:right;\"> 0.2142857 </td>\n",
       "   <td style=\"text-align:right;\"> 0.2142857 </td>\n",
       "  </tr>\n",
       "</tbody>\n",
       "</table>"
      ]
     },
     "metadata": {},
     "output_type": "display_data"
    },
    {
     "data": {
      "text/html": [
       "<table>\n",
       " <thead>\n",
       "  <tr>\n",
       "   <th style=\"text-align:right;background-color: #FFFFFF !important;\"> accuracy_2 </th>\n",
       "  </tr>\n",
       " </thead>\n",
       "<tbody>\n",
       "  <tr>\n",
       "   <td style=\"text-align:right;\"> 0.5 </td>\n",
       "  </tr>\n",
       "</tbody>\n",
       "</table>"
      ]
     },
     "metadata": {},
     "output_type": "display_data"
    },
    {
     "data": {
      "text/html": [
       "<table>\n",
       "<thead><tr><th scope=col>buy_buy</th><th scope=col>pass_buy</th><th scope=col>buy_pass</th><th scope=col>pass_pass</th><th scope=col>insample_profit</th></tr></thead>\n",
       "<tbody>\n",
       "\t<tr><td>2769500 </td><td>0       </td><td>-2443500</td><td>0       </td><td>326000  </td></tr>\n",
       "</tbody>\n",
       "</table>\n"
      ],
      "text/latex": [
       "\\begin{tabular}{r|lllll}\n",
       " buy\\_buy & pass\\_buy & buy\\_pass & pass\\_pass & insample\\_profit\\\\\n",
       "\\hline\n",
       "\t 2769500  & 0        & -2443500 & 0        & 326000  \\\\\n",
       "\\end{tabular}\n"
      ],
      "text/markdown": [
       "\n",
       "| buy_buy | pass_buy | buy_pass | pass_pass | insample_profit |\n",
       "|---|---|---|---|---|\n",
       "| 2769500  | 0        | -2443500 | 0        | 326000   |\n",
       "\n"
      ],
      "text/plain": [
       "  buy_buy pass_buy buy_pass pass_pass insample_profit\n",
       "1 2769500 0        -2443500 0         326000         "
      ]
     },
     "metadata": {},
     "output_type": "display_data"
    }
   ],
   "source": [
    "data.train = data[setdiff(1:nrow(data), fold[[2]]),]\n",
    "data.dev = data[fold[[2]],]\n",
    "\n",
    "model.2 = naiveBayes(class ~ x1+x2, data.train)\n",
    "prob.2 = predict(model.2, data.dev, type=\"raw\")\n",
    "class.predicted.2 = as.class(prob.2, class=\"buy\", cutoff=0.5)\n",
    "   \n",
    "CM.2 = confusionMatrix(class.predicted.2, data.dev$class)$table\n",
    "cm.2 = CM.2/sum(CM.2)\n",
    "fmt.cm(cm.2)\n",
    "\n",
    "accuracy_2 = cm.2[1,1]+cm.2[2,2]\n",
    "accuracy[2] = accuracy_2\n",
    "fmt(accuracy_2)\n",
    "\n",
    "\n",
    "bb.2 = cm.2[1,1]\n",
    "pb.2 = cm.2[2,1]\n",
    "buyers.2 = round((bb.2 / (bb.2 + pb.2)) * 50)\n",
    "profit.2 = buyers.2*revenue - buyers.2*cost\n",
    "\n",
    "\n",
    "bp.2 = cm.2[1,2]\n",
    "pp.2 = cm.2[2,2]\n",
    "\n",
    "buyers2.2 = round((bp.2 / (bp.2 + pp.2)) * passers)\n",
    "profit2.2 = 0 - buyers2.2*cost\n",
    "\n",
    "profits[2] = profit.2 + profit2.2\n",
    "\n",
    "data.frame(buy_buy=profit.2,\n",
    "           pass_buy=0,\n",
    "           buy_pass=profit2.2,\n",
    "           pass_pass=0,\n",
    "           insample_profit=profit.2+profit2.2)\n"
   ]
  },
  {
   "cell_type": "code",
   "execution_count": 160,
   "metadata": {},
   "outputs": [
    {
     "data": {
      "text/html": [
       "<table>\n",
       "<caption><center><font color=\"black\"><b>cm.3</b></font></center></caption>\n",
       " <thead>\n",
       "  <tr>\n",
       "   <th style=\"text-align:left;background-color: #FFFFFF !important;\">   </th>\n",
       "   <th style=\"text-align:right;background-color: #FFFFFF !important;\"> buy </th>\n",
       "   <th style=\"text-align:right;background-color: #FFFFFF !important;\"> pass </th>\n",
       "  </tr>\n",
       " </thead>\n",
       "<tbody>\n",
       "  <tr>\n",
       "   <td style=\"text-align:left;font-weight: bold;\"> buy </td>\n",
       "   <td style=\"text-align:right;\"> 0.2000000 </td>\n",
       "   <td style=\"text-align:right;\"> 0.1333333 </td>\n",
       "  </tr>\n",
       "  <tr>\n",
       "   <td style=\"text-align:left;font-weight: bold;\"> pass </td>\n",
       "   <td style=\"text-align:right;\"> 0.2666667 </td>\n",
       "   <td style=\"text-align:right;\"> 0.4000000 </td>\n",
       "  </tr>\n",
       "</tbody>\n",
       "</table>"
      ]
     },
     "metadata": {},
     "output_type": "display_data"
    },
    {
     "data": {
      "text/html": [
       "<table>\n",
       " <thead>\n",
       "  <tr>\n",
       "   <th style=\"text-align:right;background-color: #FFFFFF !important;\"> accuracy_3 </th>\n",
       "  </tr>\n",
       " </thead>\n",
       "<tbody>\n",
       "  <tr>\n",
       "   <td style=\"text-align:right;\"> 0.6 </td>\n",
       "  </tr>\n",
       "</tbody>\n",
       "</table>"
      ]
     },
     "metadata": {},
     "output_type": "display_data"
    },
    {
     "data": {
      "text/html": [
       "<table>\n",
       "<thead><tr><th scope=col>buy_buy</th><th scope=col>pass_buy</th><th scope=col>buy_pass</th><th scope=col>pass_pass</th><th scope=col>insample_profit</th></tr></thead>\n",
       "<tbody>\n",
       "\t<tr><td>2005500 </td><td>0       </td><td>-1071000</td><td>0       </td><td>934500  </td></tr>\n",
       "</tbody>\n",
       "</table>\n"
      ],
      "text/latex": [
       "\\begin{tabular}{r|lllll}\n",
       " buy\\_buy & pass\\_buy & buy\\_pass & pass\\_pass & insample\\_profit\\\\\n",
       "\\hline\n",
       "\t 2005500  & 0        & -1071000 & 0        & 934500  \\\\\n",
       "\\end{tabular}\n"
      ],
      "text/markdown": [
       "\n",
       "| buy_buy | pass_buy | buy_pass | pass_pass | insample_profit |\n",
       "|---|---|---|---|---|\n",
       "| 2005500  | 0        | -1071000 | 0        | 934500   |\n",
       "\n"
      ],
      "text/plain": [
       "  buy_buy pass_buy buy_pass pass_pass insample_profit\n",
       "1 2005500 0        -1071000 0         934500         "
      ]
     },
     "metadata": {},
     "output_type": "display_data"
    }
   ],
   "source": [
    "data.train = data[setdiff(1:nrow(data), fold[[3]]),]\n",
    "data.dev = data[fold[[3]],]\n",
    "\n",
    "model.3 = naiveBayes(class ~ x1+x2, data.train)\n",
    "prob.3 = predict(model.3, data.dev, type=\"raw\")\n",
    "class.predicted.3 = as.class(prob.3, class=\"buy\", cutoff=0.5)\n",
    "   \n",
    "CM.3 = confusionMatrix(class.predicted.3, data.dev$class)$table\n",
    "cm.3 = CM.3/sum(CM.3)\n",
    "fmt.cm(cm.3)\n",
    "\n",
    "accuracy_3 = cm.3[1,1]+cm.3[2,2]\n",
    "accuracy[3] = accuracy_3\n",
    "fmt(accuracy_3)\n",
    "\n",
    "\n",
    "bb.3 = cm.3[1,1]\n",
    "pb.3 = cm.3[2,1]\n",
    "buyers.3 = round((bb.3 / (bb.3 + pb.3)) * 50)\n",
    "profit.3 = buyers.3*revenue - buyers.3*cost\n",
    "\n",
    "\n",
    "bp.3 = cm.3[1,2]\n",
    "pp.3 = cm.3[2,2]\n",
    "\n",
    "buyers2.3 = round((bp.3 / (bp.3 + pp.3)) * passers)\n",
    "profit2.3 = 0 - buyers2.3*cost\n",
    "\n",
    "profits[3] = profit.3 + profit2.3\n",
    "\n",
    "data.frame(buy_buy=profit.3,\n",
    "           pass_buy=0,\n",
    "           buy_pass=profit2.3,\n",
    "           pass_pass=0,\n",
    "           insample_profit=profit.3+profit2.3)"
   ]
  },
  {
   "cell_type": "code",
   "execution_count": 161,
   "metadata": {},
   "outputs": [
    {
     "data": {
      "text/html": [
       "<table>\n",
       "<caption><center><font color=\"black\"><b>cm.4</b></font></center></caption>\n",
       " <thead>\n",
       "  <tr>\n",
       "   <th style=\"text-align:left;background-color: #FFFFFF !important;\">   </th>\n",
       "   <th style=\"text-align:right;background-color: #FFFFFF !important;\"> buy </th>\n",
       "   <th style=\"text-align:right;background-color: #FFFFFF !important;\"> pass </th>\n",
       "  </tr>\n",
       " </thead>\n",
       "<tbody>\n",
       "  <tr>\n",
       "   <td style=\"text-align:left;font-weight: bold;\"> buy </td>\n",
       "   <td style=\"text-align:right;\"> 0.0000000 </td>\n",
       "   <td style=\"text-align:right;\"> 0.0000000 </td>\n",
       "  </tr>\n",
       "  <tr>\n",
       "   <td style=\"text-align:left;font-weight: bold;\"> pass </td>\n",
       "   <td style=\"text-align:right;\"> 0.4666667 </td>\n",
       "   <td style=\"text-align:right;\"> 0.5333333 </td>\n",
       "  </tr>\n",
       "</tbody>\n",
       "</table>"
      ]
     },
     "metadata": {},
     "output_type": "display_data"
    },
    {
     "data": {
      "text/html": [
       "<table>\n",
       " <thead>\n",
       "  <tr>\n",
       "   <th style=\"text-align:right;background-color: #FFFFFF !important;\"> accuracy_4 </th>\n",
       "  </tr>\n",
       " </thead>\n",
       "<tbody>\n",
       "  <tr>\n",
       "   <td style=\"text-align:right;\"> 0.5333333 </td>\n",
       "  </tr>\n",
       "</tbody>\n",
       "</table>"
      ]
     },
     "metadata": {},
     "output_type": "display_data"
    },
    {
     "data": {
      "text/html": [
       "<table>\n",
       "<thead><tr><th scope=col>buy_buy</th><th scope=col>pass_buy</th><th scope=col>buy_pass</th><th scope=col>pass_pass</th><th scope=col>insample_profit</th></tr></thead>\n",
       "<tbody>\n",
       "\t<tr><td>0</td><td>0</td><td>0</td><td>0</td><td>0</td></tr>\n",
       "</tbody>\n",
       "</table>\n"
      ],
      "text/latex": [
       "\\begin{tabular}{r|lllll}\n",
       " buy\\_buy & pass\\_buy & buy\\_pass & pass\\_pass & insample\\_profit\\\\\n",
       "\\hline\n",
       "\t 0 & 0 & 0 & 0 & 0\\\\\n",
       "\\end{tabular}\n"
      ],
      "text/markdown": [
       "\n",
       "| buy_buy | pass_buy | buy_pass | pass_pass | insample_profit |\n",
       "|---|---|---|---|---|\n",
       "| 0 | 0 | 0 | 0 | 0 |\n",
       "\n"
      ],
      "text/plain": [
       "  buy_buy pass_buy buy_pass pass_pass insample_profit\n",
       "1 0       0        0        0         0              "
      ]
     },
     "metadata": {},
     "output_type": "display_data"
    }
   ],
   "source": [
    "data.train = data[setdiff(1:nrow(data), fold[[4]]),]\n",
    "data.dev = data[fold[[4]],]\n",
    "\n",
    "model.4 = naiveBayes(class ~ x1+x2, data.train)\n",
    "prob.4 = predict(model.4, data.dev, type=\"raw\")\n",
    "class.predicted.4 = as.class(prob.4, class=\"buy\", cutoff=0.5)\n",
    "   \n",
    "CM.4 = confusionMatrix(class.predicted.4, data.dev$class)$table\n",
    "cm.4 = CM.4/sum(CM.4)\n",
    "fmt.cm(cm.4)\n",
    "\n",
    "accuracy_4 = cm.4[1,1]+cm.4[2,2]\n",
    "accuracy[4] = accuracy_4\n",
    "fmt(accuracy_4)\n",
    "\n",
    "\n",
    "bb.4 = cm.4[1,1]\n",
    "pb.4 = cm.4[2,1]\n",
    "buyers.4 = round((bb.4 / (bb.4 + pb.4)) * 50)\n",
    "profit.4 = buyers.4*revenue - buyers.4*cost\n",
    "\n",
    "\n",
    "bp.4 = cm.4[1,2]\n",
    "pp.4 = cm.4[2,2]\n",
    "\n",
    "buyers2.4 = round((bp.4 / (bp.4 + pp.4)) * passers)\n",
    "profit2.4 = 0 - buyers2.4*cost\n",
    "\n",
    "profits[4] = profit.4 + profit2.4\n",
    "\n",
    "data.frame(buy_buy=profit.4,\n",
    "           pass_buy=0,\n",
    "           buy_pass=profit2.4,\n",
    "           pass_pass=0,\n",
    "           insample_profit=profit.4+profit2.4)"
   ]
  },
  {
   "cell_type": "code",
   "execution_count": 162,
   "metadata": {},
   "outputs": [
    {
     "data": {
      "text/html": [
       "<table>\n",
       "<caption><center><font color=\"black\"><b>cm.5</b></font></center></caption>\n",
       " <thead>\n",
       "  <tr>\n",
       "   <th style=\"text-align:left;background-color: #FFFFFF !important;\">   </th>\n",
       "   <th style=\"text-align:right;background-color: #FFFFFF !important;\"> buy </th>\n",
       "   <th style=\"text-align:right;background-color: #FFFFFF !important;\"> pass </th>\n",
       "  </tr>\n",
       " </thead>\n",
       "<tbody>\n",
       "  <tr>\n",
       "   <td style=\"text-align:left;font-weight: bold;\"> buy </td>\n",
       "   <td style=\"text-align:right;\"> 0.1428571 </td>\n",
       "   <td style=\"text-align:right;\"> 0.1428571 </td>\n",
       "  </tr>\n",
       "  <tr>\n",
       "   <td style=\"text-align:left;font-weight: bold;\"> pass </td>\n",
       "   <td style=\"text-align:right;\"> 0.3571429 </td>\n",
       "   <td style=\"text-align:right;\"> 0.3571429 </td>\n",
       "  </tr>\n",
       "</tbody>\n",
       "</table>"
      ]
     },
     "metadata": {},
     "output_type": "display_data"
    },
    {
     "data": {
      "text/html": [
       "<table>\n",
       " <thead>\n",
       "  <tr>\n",
       "   <th style=\"text-align:right;background-color: #FFFFFF !important;\"> accuracy_5 </th>\n",
       "  </tr>\n",
       " </thead>\n",
       "<tbody>\n",
       "  <tr>\n",
       "   <td style=\"text-align:right;\"> 0.5 </td>\n",
       "  </tr>\n",
       "</tbody>\n",
       "</table>"
      ]
     },
     "metadata": {},
     "output_type": "display_data"
    },
    {
     "data": {
      "text/html": [
       "<table>\n",
       "<thead><tr><th scope=col>buy_buy</th><th scope=col>pass_buy</th><th scope=col>buy_pass</th><th scope=col>pass_pass</th><th scope=col>insample_profit</th></tr></thead>\n",
       "<tbody>\n",
       "\t<tr><td>1337000 </td><td>0       </td><td>-1219500</td><td>0       </td><td>117500  </td></tr>\n",
       "</tbody>\n",
       "</table>\n"
      ],
      "text/latex": [
       "\\begin{tabular}{r|lllll}\n",
       " buy\\_buy & pass\\_buy & buy\\_pass & pass\\_pass & insample\\_profit\\\\\n",
       "\\hline\n",
       "\t 1337000  & 0        & -1219500 & 0        & 117500  \\\\\n",
       "\\end{tabular}\n"
      ],
      "text/markdown": [
       "\n",
       "| buy_buy | pass_buy | buy_pass | pass_pass | insample_profit |\n",
       "|---|---|---|---|---|\n",
       "| 1337000  | 0        | -1219500 | 0        | 117500   |\n",
       "\n"
      ],
      "text/plain": [
       "  buy_buy pass_buy buy_pass pass_pass insample_profit\n",
       "1 1337000 0        -1219500 0         117500         "
      ]
     },
     "metadata": {},
     "output_type": "display_data"
    }
   ],
   "source": [
    "data.train = data[setdiff(1:nrow(data), fold[[5]]),]\n",
    "data.dev = data[fold[[5]],]\n",
    "\n",
    "model.5 = naiveBayes(class ~ x1+x2, data.train)\n",
    "prob.5 = predict(model.5, data.dev, type=\"raw\")\n",
    "class.predicted.5 = as.class(prob.5, class=\"buy\", cutoff=0.5)\n",
    "   \n",
    "CM.5 = confusionMatrix(class.predicted.5, data.dev$class)$table\n",
    "cm.5 = CM.5/sum(CM.5)\n",
    "fmt.cm(cm.5)\n",
    "\n",
    "accuracy_5 = cm.5[1,1]+cm.5[2,2]\n",
    "accuracy[5] = accuracy_5\n",
    "fmt(accuracy_5)\n",
    "\n",
    "\n",
    "bb.5 = cm.5[1,1]\n",
    "pb.5 = cm.5[2,1]\n",
    "buyers.5 = round((bb.5 / (bb.5 + pb.5)) * 50)\n",
    "profit.5 = buyers.5*revenue - buyers.5*cost\n",
    "\n",
    "\n",
    "bp.5 = cm.5[1,2]\n",
    "pp.5 = cm.5[2,2]\n",
    "\n",
    "buyers2.5 = round((bp.5 / (bp.5 + pp.5)) * passers)\n",
    "profit2.5 = 0 - buyers2.5*cost\n",
    "\n",
    "profits[5] = profit.5 + profit2.5\n",
    "\n",
    "data.frame(buy_buy=profit.5,\n",
    "           pass_buy=0,\n",
    "           buy_pass=profit2.5,\n",
    "           pass_pass=0,\n",
    "           insample_profit=profit.5+profit2.5)"
   ]
  },
  {
   "cell_type": "code",
   "execution_count": 163,
   "metadata": {},
   "outputs": [
    {
     "data": {
      "text/plain": [
       "\n",
       "Naive Bayes Classifier for Discrete Predictors\n",
       "\n",
       "Call:\n",
       "naiveBayes.default(x = X, y = Y, laplace = laplace)\n",
       "\n",
       "A-priori probabilities:\n",
       "Y\n",
       "      buy      pass \n",
       "0.4861111 0.5138889 \n",
       "\n",
       "Conditional probabilities:\n",
       "      x1\n",
       "Y          [,1]     [,2]\n",
       "  buy  2.971429 1.271537\n",
       "  pass 2.702703 1.853898\n",
       "\n",
       "      x2\n",
       "Y          [,1]     [,2]\n",
       "  buy  4.685714 2.348609\n",
       "  pass 4.027027 1.674755\n"
      ]
     },
     "metadata": {},
     "output_type": "display_data"
    },
    {
     "data": {
      "text/html": [
       "<table>\n",
       "<thead><tr><th scope=col>cv_accuracy</th><th scope=col>cv_profit</th></tr></thead>\n",
       "<tbody>\n",
       "\t<tr><td>0.6266667</td><td>1230600  </td></tr>\n",
       "</tbody>\n",
       "</table>\n"
      ],
      "text/latex": [
       "\\begin{tabular}{r|ll}\n",
       " cv\\_accuracy & cv\\_profit\\\\\n",
       "\\hline\n",
       "\t 0.6266667 & 1230600  \\\\\n",
       "\\end{tabular}\n"
      ],
      "text/markdown": [
       "\n",
       "| cv_accuracy | cv_profit |\n",
       "|---|---|\n",
       "| 0.6266667 | 1230600   |\n",
       "\n"
      ],
      "text/plain": [
       "  cv_accuracy cv_profit\n",
       "1 0.6266667   1230600  "
      ]
     },
     "metadata": {},
     "output_type": "display_data"
    }
   ],
   "source": [
    "model\n",
    "\n",
    "cv_accuracy = mean(accuracy)\n",
    "cv_profit = mean(profits)\n",
    "\n",
    "data.frame(cv_accuracy=cv_accuracy,\n",
    "           cv_profit=cv_profit)"
   ]
  },
  {
   "cell_type": "markdown",
   "metadata": {},
   "source": [
    "## Problem 4: Benefit of the Model\n",
    "\n",
    "What is the model worth to our company in terms of how much it is expected to increase profit? In other words, what is the opportunity cost of not using the model?"
   ]
  },
  {
   "cell_type": "code",
   "execution_count": 164,
   "metadata": {},
   "outputs": [
    {
     "data": {
      "text/html": [
       "<table>\n",
       "<thead><tr><th scope=col>profit.baseline</th><th scope=col>profit.with_model</th><th scope=col>improvement</th></tr></thead>\n",
       "<tbody>\n",
       "\t<tr><td>500000 </td><td>1230600</td><td>730600 </td></tr>\n",
       "</tbody>\n",
       "</table>\n"
      ],
      "text/latex": [
       "\\begin{tabular}{r|lll}\n",
       " profit.baseline & profit.with\\_model & improvement\\\\\n",
       "\\hline\n",
       "\t 500000  & 1230600 & 730600 \\\\\n",
       "\\end{tabular}\n"
      ],
      "text/markdown": [
       "\n",
       "| profit.baseline | profit.with_model | improvement |\n",
       "|---|---|---|\n",
       "| 500000  | 1230600 | 730600  |\n",
       "\n"
      ],
      "text/plain": [
       "  profit.baseline profit.with_model improvement\n",
       "1 500000          1230600           730600     "
      ]
     },
     "metadata": {},
     "output_type": "display_data"
    }
   ],
   "source": [
    "improvement = cv_profit - profit.baseline\n",
    "\n",
    "data.frame(profit.baseline=profit.baseline,\n",
    "           profit.with_model=cv_profit,\n",
    "           improvement=improvement)"
   ]
  },
  {
   "cell_type": "markdown",
   "metadata": {},
   "source": [
    "<font size=1;>\n",
    "<p style=\"text-align: left;\">\n",
    "Copyright (c) Berkeley Data Analytics Group, LLC\n",
    "<span style=\"float: right;\">\n",
    "Document revised December 17, 2019\n",
    "</span>\n",
    "</p>\n",
    "</font>"
   ]
  }
 ],
 "metadata": {
  "hide_code_all_hidden": false,
  "hide_input": false,
  "kernelspec": {
   "display_name": "R",
   "language": "R",
   "name": "ir"
  },
  "language_info": {
   "codemirror_mode": "r",
   "file_extension": ".r",
   "mimetype": "text/x-r-source",
   "name": "R",
   "pygments_lexer": "r",
   "version": "3.6.3"
  },
  "toc": {
   "base_numbering": 1,
   "nav_menu": {},
   "number_sections": false,
   "sideBar": true,
   "skip_h1_title": true,
   "title_cell": "Table of Contents",
   "title_sidebar": "Contents",
   "toc_cell": false,
   "toc_position": {
    "height": "calc(100% - 180px)",
    "left": "10px",
    "top": "150px",
    "width": "307.2px"
   },
   "toc_section_display": true,
   "toc_window_display": true
  }
 },
 "nbformat": 4,
 "nbformat_minor": 2
}
