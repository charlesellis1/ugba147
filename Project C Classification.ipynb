{
 "cells": [
  {
   "cell_type": "markdown",
   "metadata": {
    "hideCode": false,
    "hidePrompt": false
   },
   "source": [
    "# Project Part C: Classification\n",
    "\n",
    "![](banner_project.jpg)"
   ]
  },
  {
   "cell_type": "code",
   "execution_count": 13,
   "metadata": {},
   "outputs": [],
   "source": [
    "analyst = \"Charlie Ellis\" # Replace this with your name"
   ]
  },
  {
   "cell_type": "code",
   "execution_count": 14,
   "metadata": {
    "hide_input": false
   },
   "outputs": [
    {
     "data": {
      "text/html": [
       "<p style=\"text-align:center; font-size:10px;\">\n",
       ".................................................... start of document ....................................................\n",
       "</p>"
      ]
     },
     "metadata": {},
     "output_type": "display_data"
    }
   ],
   "source": [
    "f = \"setup.R\"; for (i in 1:10) { if (file.exists(f)) break else f = paste0(\"../\", f) }; source(f)\n",
    "options(repr.matrix.max.rows=674)\n",
    "options(repr.matrix.max.cols=200)\n",
    "update_geom_defaults(\"point\", list(size=1))                                "
   ]
  },
  {
   "cell_type": "markdown",
   "metadata": {},
   "source": [
    "## Directions"
   ]
  },
  {
   "cell_type": "markdown",
   "metadata": {},
   "source": [
    "### Objective\n",
    "\n",
    "Construct and evaluate a classifier trained on a transformed dataset about public company fundamentals.  Later, use the classifier along with additional analysis to recommend a portfolio of 12 company investments that maximizes 12-month return of an overall \\$1,000,000 investment."
   ]
  },
  {
   "cell_type": "markdown",
   "metadata": {},
   "source": [
    "### Approach\n",
    "\n",
    "Retrieve a transformed dataset.\n",
    "\n",
    "Construct a model to predict whether stock price will grow more than 30% over 12 months, given 12 months of past company fundamentals data, and using a machine learning model construction method and transformed data.\n",
    "\n",
    "Evaluate the model's business performance based on a business model and business parameters."
   ]
  },
  {
   "cell_type": "markdown",
   "metadata": {},
   "source": [
    "## Business Model\n",
    "\n",
    "The business model is ...\n",
    "\n",
    "$ \\begin{align} profit = \\left( \\sum_{i \\in portfolio} (1 + growth_i) \\times allocation_i \\right) - budget \\end{align} $\n",
    "\n",
    "<br>\n",
    "\n",
    "$ profit\\,rate = profit \\div budget $\n",
    "\n",
    "\n",
    "$ \\begin{align} budget = \\sum_{i \\in portfolio} allocation_i \\end{align} $\n",
    "\n",
    "<br>\n",
    "\n",
    "Business model parameters include ...\n",
    "\n",
    "* Budget = \\\\$1,000,000: total investment to allocate across the companies in the portfolio\n",
    "* Portfolio Size = 12: number of companies in the portfolio\n",
    "* Allocations = \\\\$1,000,000 $\\div$ 12 to each company: investments to allocate to specific companies in the portfolio \n",
    "\n",
    "Fill the portfolio with companies with the lowest gvkey values from among those you predict to grow above 30%.  If you predict fewer than the portfolio size to grow above 30%, then fill the rest of the portfolio with the remaining companies with lowest gvkey values."
   ]
  },
  {
   "cell_type": "code",
   "execution_count": 15,
   "metadata": {},
   "outputs": [
    {
     "data": {
      "text/html": [
       "<table><tr><td style=\"background-color:white; vertical-align:top; padding-right:40px;\"><table>\n",
       " <thead>\n",
       "  <tr>\n",
       "   <th style=\"text-align:right;background-color: #FFFFFF !important;\"> budget </th>\n",
       "  </tr>\n",
       " </thead>\n",
       "<tbody>\n",
       "  <tr>\n",
       "   <td style=\"text-align:right;\"> 1000000 </td>\n",
       "  </tr>\n",
       "</tbody>\n",
       "</table></td><td style=\"background-color:white; vertical-align:top; padding-right:40px;\"><table>\n",
       " <thead>\n",
       "  <tr>\n",
       "   <th style=\"text-align:right;background-color: #FFFFFF !important;\"> portfolio_size </th>\n",
       "  </tr>\n",
       " </thead>\n",
       "<tbody>\n",
       "  <tr>\n",
       "   <td style=\"text-align:right;\"> 12 </td>\n",
       "  </tr>\n",
       "</tbody>\n",
       "</table></td><td style=\"background-color:white; vertical-align:top;\"><table>\n",
       " <thead>\n",
       "  <tr>\n",
       "   <th style=\"text-align:right;background-color: #FFFFFF !important;\"> allocation </th>\n",
       "  </tr>\n",
       " </thead>\n",
       "<tbody>\n",
       "  <tr>\n",
       "   <td style=\"text-align:right;\"> 83333.33 </td>\n",
       "  </tr>\n",
       "  <tr>\n",
       "   <td style=\"text-align:right;\"> 83333.33 </td>\n",
       "  </tr>\n",
       "  <tr>\n",
       "   <td style=\"text-align:right;\"> 83333.33 </td>\n",
       "  </tr>\n",
       "  <tr>\n",
       "   <td style=\"text-align:right;\"> 83333.33 </td>\n",
       "  </tr>\n",
       "  <tr>\n",
       "   <td style=\"text-align:right;\"> 83333.33 </td>\n",
       "  </tr>\n",
       "  <tr>\n",
       "   <td style=\"text-align:right;\"> 83333.33 </td>\n",
       "  </tr>\n",
       "  <tr>\n",
       "   <td style=\"text-align:right;\"> 83333.33 </td>\n",
       "  </tr>\n",
       "  <tr>\n",
       "   <td style=\"text-align:right;\"> 83333.33 </td>\n",
       "  </tr>\n",
       "  <tr>\n",
       "   <td style=\"text-align:right;\"> 83333.33 </td>\n",
       "  </tr>\n",
       "  <tr>\n",
       "   <td style=\"text-align:right;\"> 83333.33 </td>\n",
       "  </tr>\n",
       "  <tr>\n",
       "   <td style=\"text-align:right;\"> 83333.33 </td>\n",
       "  </tr>\n",
       "  <tr>\n",
       "   <td style=\"text-align:right;\"> 83333.33 </td>\n",
       "  </tr>\n",
       "</tbody>\n",
       "</table></td></tr></table>"
      ]
     },
     "metadata": {},
     "output_type": "display_data"
    }
   ],
   "source": [
    "# Set the business parameters.\n",
    "\n",
    "budget = 1000000\n",
    "portfolio_size = 12\n",
    "allocation = rep(budget/portfolio_size, portfolio_size)\n",
    "\n",
    "layout(fmt(budget), fmt(portfolio_size), fmt(allocation))"
   ]
  },
  {
   "cell_type": "markdown",
   "metadata": {},
   "source": [
    "## Data\n",
    "\n",
    "In this step, we just acquire our data frame that we created from the last part of the last project where we established what 5 predictor variables and 3 outcome variables we wanted to use for classifying. Two of the predictor variables we used were the first and second principal components, which we were able to acquire from last project, and are great estimators for our data and will be helpful for making predictions."
   ]
  },
  {
   "cell_type": "code",
   "execution_count": 16,
   "metadata": {},
   "outputs": [
    {
     "data": {
      "text/html": [
       "<table>\n",
       "<thead><tr><th scope=col>gvkey</th><th scope=col>tic</th><th scope=col>conm</th><th scope=col>PC1</th><th scope=col>PC2</th><th scope=col>prccq</th><th scope=col>growth</th><th scope=col>big_growth</th></tr></thead>\n",
       "<tbody>\n",
       "\t<tr><td>1004                        </td><td>AIR                         </td><td>AAR CORP                    </td><td>  3.4371231                 </td><td>-0.2260719                  </td><td>43.69                       </td><td> 0.0507455507               </td><td>NO                          </td></tr>\n",
       "\t<tr><td>1045                        </td><td>AAL                         </td><td>AMERICAN AIRLINES GROUP INC </td><td>-12.0332067                 </td><td> 0.8045109                  </td><td>32.11                       </td><td>-0.3828560446               </td><td>NO                          </td></tr>\n",
       "\t<tr><td>1050                        </td><td>CECE                        </td><td>CECO ENVIRONMENTAL CORP     </td><td>  3.9532234                 </td><td>-0.7553386                  </td><td> 6.75                       </td><td> 0.3157894737               </td><td>YES                         </td></tr>\n",
       "\t<tr><td>1062                        </td><td>ASA                         </td><td>ASA GOLD AND PRECIOUS METALS</td><td>  3.6561434                 </td><td>-0.7981915                  </td><td> 8.66                       </td><td>-0.2164739518               </td><td>NO                          </td></tr>\n",
       "\t<tr><td>1072                        </td><td>AVX                         </td><td>AVX CORP                    </td><td>  2.9282228                 </td><td>-0.7104200                  </td><td>15.25                       </td><td>-0.1184971098               </td><td>NO                          </td></tr>\n",
       "\t<tr><td>1075                        </td><td>PNW                         </td><td>PINNACLE WEST CAPITAL CORP  </td><td>  0.3488491                 </td><td> 1.1389605                  </td><td>85.20                       </td><td> 0.0002347969               </td><td>NO                          </td></tr>\n",
       "</tbody>\n",
       "</table>\n"
      ],
      "text/latex": [
       "\\begin{tabular}{r|llllllll}\n",
       " gvkey & tic & conm & PC1 & PC2 & prccq & growth & big\\_growth\\\\\n",
       "\\hline\n",
       "\t 1004                         & AIR                          & AAR CORP                     &   3.4371231                  & -0.2260719                   & 43.69                        &  0.0507455507                & NO                          \\\\\n",
       "\t 1045                         & AAL                          & AMERICAN AIRLINES GROUP INC  & -12.0332067                  &  0.8045109                   & 32.11                        & -0.3828560446                & NO                          \\\\\n",
       "\t 1050                         & CECE                         & CECO ENVIRONMENTAL CORP      &   3.9532234                  & -0.7553386                   &  6.75                        &  0.3157894737                & YES                         \\\\\n",
       "\t 1062                         & ASA                          & ASA GOLD AND PRECIOUS METALS &   3.6561434                  & -0.7981915                   &  8.66                        & -0.2164739518                & NO                          \\\\\n",
       "\t 1072                         & AVX                          & AVX CORP                     &   2.9282228                  & -0.7104200                   & 15.25                        & -0.1184971098                & NO                          \\\\\n",
       "\t 1075                         & PNW                          & PINNACLE WEST CAPITAL CORP   &   0.3488491                  &  1.1389605                   & 85.20                        &  0.0002347969                & NO                          \\\\\n",
       "\\end{tabular}\n"
      ],
      "text/markdown": [
       "\n",
       "| gvkey | tic | conm | PC1 | PC2 | prccq | growth | big_growth |\n",
       "|---|---|---|---|---|---|---|---|\n",
       "| 1004                         | AIR                          | AAR CORP                     |   3.4371231                  | -0.2260719                   | 43.69                        |  0.0507455507                | NO                           |\n",
       "| 1045                         | AAL                          | AMERICAN AIRLINES GROUP INC  | -12.0332067                  |  0.8045109                   | 32.11                        | -0.3828560446                | NO                           |\n",
       "| 1050                         | CECE                         | CECO ENVIRONMENTAL CORP      |   3.9532234                  | -0.7553386                   |  6.75                        |  0.3157894737                | YES                          |\n",
       "| 1062                         | ASA                          | ASA GOLD AND PRECIOUS METALS |   3.6561434                  | -0.7981915                   |  8.66                        | -0.2164739518                | NO                           |\n",
       "| 1072                         | AVX                          | AVX CORP                     |   2.9282228                  | -0.7104200                   | 15.25                        | -0.1184971098                | NO                           |\n",
       "| 1075                         | PNW                          | PINNACLE WEST CAPITAL CORP   |   0.3488491                  |  1.1389605                   | 85.20                        |  0.0002347969                | NO                           |\n",
       "\n"
      ],
      "text/plain": [
       "  gvkey tic  conm                         PC1         PC2        prccq\n",
       "1 1004  AIR  AAR CORP                       3.4371231 -0.2260719 43.69\n",
       "2 1045  AAL  AMERICAN AIRLINES GROUP INC  -12.0332067  0.8045109 32.11\n",
       "3 1050  CECE CECO ENVIRONMENTAL CORP        3.9532234 -0.7553386  6.75\n",
       "4 1062  ASA  ASA GOLD AND PRECIOUS METALS   3.6561434 -0.7981915  8.66\n",
       "5 1072  AVX  AVX CORP                       2.9282228 -0.7104200 15.25\n",
       "6 1075  PNW  PINNACLE WEST CAPITAL CORP     0.3488491  1.1389605 85.20\n",
       "  growth        big_growth\n",
       "1  0.0507455507 NO        \n",
       "2 -0.3828560446 NO        \n",
       "3  0.3157894737 YES       \n",
       "4 -0.2164739518 NO        \n",
       "5 -0.1184971098 NO        \n",
       "6  0.0002347969 NO        "
      ]
     },
     "metadata": {},
     "output_type": "display_data"
    }
   ],
   "source": [
    "# Retrieve \"My Data.csv\"\n",
    "data = read.csv(\"My Data.csv\", header=TRUE)\n",
    "\n",
    "# Present a few rows ...\n",
    "data[1:6,]"
   ]
  },
  {
   "cell_type": "markdown",
   "metadata": {},
   "source": [
    "## Classification Model\n",
    "\n",
    "In the model construction part of this project, we constructed a naive Bayes model trained on the pc1 and pc2 values for the entire dataset, which will predict big_growth. Then we predicted big_growth on that same dataset, and constructed a confusion matrix on the predicted values from our model, compared to the actual values from our dataset. From this, we then calculated the accuracy and change in profits for the top 12 companies which were to be involved in the calculation of profits. Then we wanted to make a different model, which was trained by 75% of the dataset, and use that model to predict the values for the other 25% of the data that was not in the training data, and we caluclated the accuracy and change in profits from this out of sample model prediction. And finally, we used a different way to classify the data by using cross validation -- we divided the data into 5 folds, and training the data from each fold into its own model, and using that model to predict values from the rest of that fold, and calculated profits and accuracies. As a result, the cross-validation classifier resulted in the highest accuracy out of the three classifiers we created."
   ]
  },
  {
   "cell_type": "markdown",
   "metadata": {},
   "source": [
    "### Build Model"
   ]
  },
  {
   "cell_type": "code",
   "execution_count": 17,
   "metadata": {},
   "outputs": [
    {
     "data": {
      "text/plain": [
       "\n",
       "Naive Bayes Classifier for Discrete Predictors\n",
       "\n",
       "Call:\n",
       "naiveBayes.default(x = X, y = Y, laplace = laplace)\n",
       "\n",
       "A-priori probabilities:\n",
       "Y\n",
       "        NO        YES \n",
       "0.91637631 0.08362369 \n",
       "\n",
       "Conditional probabilities:\n",
       "     PC1\n",
       "Y           [,1]      [,2]\n",
       "  NO  -0.2239142 13.299922\n",
       "  YES  2.4537263  4.550796\n",
       "\n",
       "     PC2\n",
       "Y           [,1]     [,2]\n",
       "  NO   0.0424303 7.676443\n",
       "  YES -0.4649654 1.453473\n"
      ]
     },
     "metadata": {},
     "output_type": "display_data"
    }
   ],
   "source": [
    "# Construct a naive Bayes model to predict big_growth given PC1 and PC2 (use laplace=TRUE).\n",
    "# Present a brief summary of the model parameters.\n",
    "\n",
    "model = naiveBayes(big_growth ~ PC1+PC2, data, laplace=TRUE)\n",
    "model"
   ]
  },
  {
   "cell_type": "markdown",
   "metadata": {},
   "source": [
    "### In-Sample Estimated Performance"
   ]
  },
  {
   "cell_type": "code",
   "execution_count": 18,
   "metadata": {},
   "outputs": [
    {
     "data": {
      "text/html": [
       "<table>\n",
       "<caption><center><font color=\"black\"><b>cm</b></font></center></caption>\n",
       " <thead>\n",
       "  <tr>\n",
       "   <th style=\"text-align:left;background-color: #FFFFFF !important;\">   </th>\n",
       "   <th style=\"text-align:right;background-color: #FFFFFF !important;\"> NO </th>\n",
       "   <th style=\"text-align:right;background-color: #FFFFFF !important;\"> YES </th>\n",
       "  </tr>\n",
       " </thead>\n",
       "<tbody>\n",
       "  <tr>\n",
       "   <td style=\"text-align:left;font-weight: bold;\"> NO </td>\n",
       "   <td style=\"text-align:right;\"> 0.2376307 </td>\n",
       "   <td style=\"text-align:right;\"> 0.0130081 </td>\n",
       "  </tr>\n",
       "  <tr>\n",
       "   <td style=\"text-align:left;font-weight: bold;\"> YES </td>\n",
       "   <td style=\"text-align:right;\"> 0.6787456 </td>\n",
       "   <td style=\"text-align:right;\"> 0.0706156 </td>\n",
       "  </tr>\n",
       "</tbody>\n",
       "</table>"
      ]
     },
     "metadata": {},
     "output_type": "display_data"
    },
    {
     "data": {
      "text/html": [
       "<table>\n",
       "<caption><center><font color=\"black\"><b>In-Sample Estimated Performance</b></font></center></caption>\n",
       " <thead>\n",
       "  <tr>\n",
       "   <th style=\"text-align:right;background-color: #FFFFFF !important;\"> accuracy </th>\n",
       "   <th style=\"text-align:right;background-color: #FFFFFF !important;\"> profit </th>\n",
       "   <th style=\"text-align:right;background-color: #FFFFFF !important;\"> profit_rate </th>\n",
       "  </tr>\n",
       " </thead>\n",
       "<tbody>\n",
       "  <tr>\n",
       "   <td style=\"text-align:right;\"> 0.3082462 </td>\n",
       "   <td style=\"text-align:right;\"> -69740.64 </td>\n",
       "   <td style=\"text-align:right;\"> -0.0697406 </td>\n",
       "  </tr>\n",
       "</tbody>\n",
       "</table>"
      ]
     },
     "metadata": {},
     "output_type": "display_data"
    },
    {
     "data": {
      "text/html": [
       "<table>\n",
       "<thead><tr><th scope=col>big_growth</th><th scope=col>predicted</th><th scope=col>growth</th></tr></thead>\n",
       "<tbody>\n",
       "\t<tr><td>NO           </td><td>YES          </td><td> 0.0507455507</td></tr>\n",
       "\t<tr><td>NO           </td><td>NO           </td><td>-0.3828560446</td></tr>\n",
       "\t<tr><td>YES          </td><td>YES          </td><td> 0.3157894737</td></tr>\n",
       "\t<tr><td>NO           </td><td>YES          </td><td>-0.2164739518</td></tr>\n",
       "\t<tr><td>NO           </td><td>YES          </td><td>-0.1184971098</td></tr>\n",
       "\t<tr><td>NO           </td><td>NO           </td><td> 0.0002347969</td></tr>\n",
       "\t<tr><td>NO           </td><td>YES          </td><td> 0.0552070263</td></tr>\n",
       "\t<tr><td>NO           </td><td>NO           </td><td> 0.2673909234</td></tr>\n",
       "\t<tr><td>NO           </td><td>YES          </td><td>-0.9186834463</td></tr>\n",
       "\t<tr><td>YES          </td><td>YES          </td><td> 0.4449427005</td></tr>\n",
       "\t<tr><td>NO           </td><td>YES          </td><td>-0.3910256410</td></tr>\n",
       "\t<tr><td>NO           </td><td>YES          </td><td> 0.0563380282</td></tr>\n",
       "</tbody>\n",
       "</table>\n"
      ],
      "text/latex": [
       "\\begin{tabular}{r|lll}\n",
       " big\\_growth & predicted & growth\\\\\n",
       "\\hline\n",
       "\t NO            & YES           &  0.0507455507\\\\\n",
       "\t NO            & NO            & -0.3828560446\\\\\n",
       "\t YES           & YES           &  0.3157894737\\\\\n",
       "\t NO            & YES           & -0.2164739518\\\\\n",
       "\t NO            & YES           & -0.1184971098\\\\\n",
       "\t NO            & NO            &  0.0002347969\\\\\n",
       "\t NO            & YES           &  0.0552070263\\\\\n",
       "\t NO            & NO            &  0.2673909234\\\\\n",
       "\t NO            & YES           & -0.9186834463\\\\\n",
       "\t YES           & YES           &  0.4449427005\\\\\n",
       "\t NO            & YES           & -0.3910256410\\\\\n",
       "\t NO            & YES           &  0.0563380282\\\\\n",
       "\\end{tabular}\n"
      ],
      "text/markdown": [
       "\n",
       "| big_growth | predicted | growth |\n",
       "|---|---|---|\n",
       "| NO            | YES           |  0.0507455507 |\n",
       "| NO            | NO            | -0.3828560446 |\n",
       "| YES           | YES           |  0.3157894737 |\n",
       "| NO            | YES           | -0.2164739518 |\n",
       "| NO            | YES           | -0.1184971098 |\n",
       "| NO            | NO            |  0.0002347969 |\n",
       "| NO            | YES           |  0.0552070263 |\n",
       "| NO            | NO            |  0.2673909234 |\n",
       "| NO            | YES           | -0.9186834463 |\n",
       "| YES           | YES           |  0.4449427005 |\n",
       "| NO            | YES           | -0.3910256410 |\n",
       "| NO            | YES           |  0.0563380282 |\n",
       "\n"
      ],
      "text/plain": [
       "   big_growth predicted growth       \n",
       "1  NO         YES        0.0507455507\n",
       "2  NO         NO        -0.3828560446\n",
       "3  YES        YES        0.3157894737\n",
       "4  NO         YES       -0.2164739518\n",
       "5  NO         YES       -0.1184971098\n",
       "6  NO         NO         0.0002347969\n",
       "7  NO         YES        0.0552070263\n",
       "8  NO         NO         0.2673909234\n",
       "9  NO         YES       -0.9186834463\n",
       "10 YES        YES        0.4449427005\n",
       "11 NO         YES       -0.3910256410\n",
       "12 NO         YES        0.0563380282"
      ]
     },
     "metadata": {},
     "output_type": "display_data"
    }
   ],
   "source": [
    "# Present the model's in-sample estimated accuracy, profit, and profit rate at cutoff=0.5.\n",
    "prob = predict(model, data, type=\"raw\")\n",
    "class.predicted = as.class(prob, class=\"YES\", cutoff=0.5)\n",
    "\n",
    "# Get accuracy\n",
    "CM = confusionMatrix(class.predicted, data$big_growth)$table\n",
    "cm = CM / sum(CM)\n",
    "fmt.cm(cm)\n",
    "accuracy = (cm[1,1]+cm[2,2])/sum(cm)\n",
    "\n",
    "# Get profits\n",
    "bigs = data.frame(big_growth=data$big_growth,\n",
    "                  predicted=class.predicted,\n",
    "                  growth=data$growth)\n",
    "big12 = bigs[1:12,]\n",
    "profit = sum((big12$growth + 1) * allocation) - budget\n",
    "profit_rate = profit / budget\n",
    "result_df = data.frame(accuracy, profit, profit_rate)\n",
    "fmt(result_df, \"In-Sample Estimated Performance\")\n",
    "\n",
    "big12\n",
    "# profit for company i = sum (1+growth_i)*(allocation_i) - budget\n",
    "# profit rate = profit / budget\n",
    "# budget = sum(allocation_i)"
   ]
  },
  {
   "cell_type": "code",
   "execution_count": 19,
   "metadata": {},
   "outputs": [
    {
     "data": {
      "text/html": [
       "<table>\n",
       "<caption><center><font color=\"black\"><b>In-Sample Estimated Performance</b></font></center></caption>\n",
       " <thead>\n",
       "  <tr>\n",
       "   <th style=\"text-align:right;background-color: #FFFFFF !important;\"> accuracy </th>\n",
       "   <th style=\"text-align:right;background-color: #FFFFFF !important;\"> profit </th>\n",
       "   <th style=\"text-align:right;background-color: #FFFFFF !important;\"> profit_rate </th>\n",
       "  </tr>\n",
       " </thead>\n",
       "<tbody>\n",
       "  <tr>\n",
       "   <td style=\"text-align:right;\"> 0.3082462 </td>\n",
       "   <td style=\"text-align:right;\"> -80393.21 </td>\n",
       "   <td style=\"text-align:right;\"> -0.0803932 </td>\n",
       "  </tr>\n",
       "</tbody>\n",
       "</table>"
      ]
     },
     "metadata": {},
     "output_type": "display_data"
    }
   ],
   "source": [
    "# Accuracy\n",
    "cutoff = 0.5\n",
    "data.p = data[, colnames(data)!=\"big_growth\"]\n",
    "prob = predict(model, data, type=\"raw\")\n",
    "data.p$class.predicted = as.class(prob, class=\"YES\", cutoff=cutoff)\n",
    "CM = confusionMatrix(data.p$class.predicted, data$big_growth)$table\n",
    "cm = CM / sum(CM)\n",
    "accuracy = (cm[1,1]+cm[2,2])/sum(cm)\n",
    "\n",
    "# Profit & Profit rate\n",
    "bigs = data.p[data.p$class.predicted == \"YES\",]\n",
    "big12 = bigs[1:12,]\n",
    "profit = sum((big12$growth + 1) * allocation) - budget\n",
    "profit_rate = profit / budget\n",
    "tbl = data.frame(accuracy, profit, profit_rate)\n",
    "fmt(tbl, \"In-Sample Estimated Performance\")\n"
   ]
  },
  {
   "cell_type": "markdown",
   "metadata": {},
   "source": [
    "### Out-of-Sample Estimated Performance"
   ]
  },
  {
   "cell_type": "code",
   "execution_count": 20,
   "metadata": {},
   "outputs": [
    {
     "data": {
      "text/html": [
       "<table><tr><td style=\"background-color:white; vertical-align:top; padding-right:40px;\"><table>\n",
       "<caption><center><font color=\"black\"><b>size(data.train)</b></font></center></caption>\n",
       " <thead>\n",
       "  <tr>\n",
       "   <th style=\"text-align:right;background-color: #FFFFFF !important;\"> observations </th>\n",
       "   <th style=\"text-align:right;background-color: #FFFFFF !important;\"> variables </th>\n",
       "  </tr>\n",
       " </thead>\n",
       "<tbody>\n",
       "  <tr>\n",
       "   <td style=\"text-align:right;\"> 3228 </td>\n",
       "   <td style=\"text-align:right;\"> 8 </td>\n",
       "  </tr>\n",
       "</tbody>\n",
       "</table></td><td style=\"background-color:white; vertical-align:top;\"><table>\n",
       "<caption><center><font color=\"black\"><b>size(data.dev)</b></font></center></caption>\n",
       " <thead>\n",
       "  <tr>\n",
       "   <th style=\"text-align:right;background-color: #FFFFFF !important;\"> observations </th>\n",
       "   <th style=\"text-align:right;background-color: #FFFFFF !important;\"> variables </th>\n",
       "  </tr>\n",
       " </thead>\n",
       "<tbody>\n",
       "  <tr>\n",
       "   <td style=\"text-align:right;\"> 1077 </td>\n",
       "   <td style=\"text-align:right;\"> 8 </td>\n",
       "  </tr>\n",
       "</tbody>\n",
       "</table></td></tr></table>"
      ]
     },
     "metadata": {},
     "output_type": "display_data"
    }
   ],
   "source": [
    "# Partition the data into training (75%) and validation (25%)\n",
    "# (use set.seed(0) and sample(...) to choose training observations).\n",
    "# How many observations and variables in the training data?\n",
    "# How many observations and variables in the validation data?\n",
    "\n",
    "set.seed(0)\n",
    "holdout = sample(1:nrow(data), 0.75*nrow(data))\n",
    "holdin = setdiff(1:nrow(data), holdout)\n",
    "data.train = data[holdout,]\n",
    "data.dev = data[holdin,]\n",
    "layout(fmt(size(data.train)), fmt(size(data.dev)))"
   ]
  },
  {
   "cell_type": "code",
   "execution_count": 21,
   "metadata": {},
   "outputs": [
    {
     "data": {
      "text/html": [
       "<table>\n",
       "<caption><center><font color=\"black\"><b>Out-of-Sample Estimated Performance</b></font></center></caption>\n",
       " <thead>\n",
       "  <tr>\n",
       "   <th style=\"text-align:right;background-color: #FFFFFF !important;\"> accuracy.t </th>\n",
       "   <th style=\"text-align:right;background-color: #FFFFFF !important;\"> profit.t </th>\n",
       "   <th style=\"text-align:right;background-color: #FFFFFF !important;\"> profit_rate.t </th>\n",
       "  </tr>\n",
       " </thead>\n",
       "<tbody>\n",
       "  <tr>\n",
       "   <td style=\"text-align:right;\"> 0.2989786 </td>\n",
       "   <td style=\"text-align:right;\"> -120201.9 </td>\n",
       "   <td style=\"text-align:right;\"> -0.1202019 </td>\n",
       "  </tr>\n",
       "</tbody>\n",
       "</table>"
      ]
     },
     "metadata": {},
     "output_type": "display_data"
    }
   ],
   "source": [
    "# Present the model's out-of-sample estimated accuracy, profit, and profit rate at cutoff=0.5.\n",
    "\n",
    "data.t = data.dev[, colnames(data.dev)!=\"big_growth\"]\n",
    "model.t = naiveBayes(big_growth ~ PC1+PC2, data.train)\n",
    "prob = predict(model.t, data.dev, type=\"raw\")\n",
    "class.predicted = as.class(prob, class=\"YES\", cutoff=0.5)\n",
    "CM.t = confusionMatrix(class.predicted, data.dev$big_growth)$table\n",
    "cm.t = CM.t/sum(CM.t)\n",
    "\n",
    "accuracy.t = cm.t[1,1]+cm.t[2,2]\n",
    "data.t$class.predicted = class.predicted\n",
    "bigs.t = data.t[data.t$class.predicted == \"YES\",]\n",
    "big12.t = bigs.t[1:12,]\n",
    "profit.t = sum((big12.t$growth + 1) * allocation) - budget\n",
    "profit_rate.t = profit.t / budget\n",
    "result_df.t = data.frame(accuracy.t, profit.t, profit_rate.t)\n",
    "fmt(result_df.t, \"Out-of-Sample Estimated Performance\")"
   ]
  },
  {
   "cell_type": "markdown",
   "metadata": {},
   "source": [
    "### 5-Fold Cross-Validation Estimated Performance"
   ]
  },
  {
   "cell_type": "code",
   "execution_count": 22,
   "metadata": {},
   "outputs": [
    {
     "name": "stdout",
     "output_type": "stream",
     "text": [
      "List of 5\n",
      " $ Fold1: int [1:861] 9 13 17 19 31 42 44 54 60 66 ...\n",
      " $ Fold2: int [1:861] 1 2 6 11 16 25 32 49 55 59 ...\n",
      " $ Fold3: int [1:861] 4 8 14 22 28 34 40 45 50 52 ...\n",
      " $ Fold4: int [1:861] 3 5 15 18 21 24 26 27 30 36 ...\n",
      " $ Fold5: int [1:861] 7 10 12 20 23 29 33 35 37 46 ...\n"
     ]
    }
   ],
   "source": [
    "# Partition the data into 5 folds (use set.seed(0) and createFolds(...)).\n",
    "# Present the first few observation (row) numbers for each of the folds.\n",
    "#\n",
    "# You can use the str() function.\n",
    "set.seed(0)\n",
    "fold = createFolds(data$big_growth, k=5)\n",
    "str(fold)"
   ]
  },
  {
   "cell_type": "code",
   "execution_count": 23,
   "metadata": {},
   "outputs": [
    {
     "data": {
      "text/html": [
       "<table>\n",
       "<thead><tr><th scope=col>fold</th><th scope=col>accuracy</th><th scope=col>profit</th></tr></thead>\n",
       "<tbody>\n",
       "\t<tr><td>1         </td><td>0.3042973 </td><td>-221281.10</td></tr>\n",
       "\t<tr><td>2         </td><td>0.9163763 </td><td> -90115.24</td></tr>\n",
       "\t<tr><td>3         </td><td>0.2659698 </td><td> -28710.93</td></tr>\n",
       "\t<tr><td>4         </td><td>0.2950058 </td><td> -89837.99</td></tr>\n",
       "\t<tr><td>5         </td><td>0.3066202 </td><td>  31939.77</td></tr>\n",
       "</tbody>\n",
       "</table>\n"
      ],
      "text/latex": [
       "\\begin{tabular}{r|lll}\n",
       " fold & accuracy & profit\\\\\n",
       "\\hline\n",
       "\t 1          & 0.3042973  & -221281.10\\\\\n",
       "\t 2          & 0.9163763  &  -90115.24\\\\\n",
       "\t 3          & 0.2659698  &  -28710.93\\\\\n",
       "\t 4          & 0.2950058  &  -89837.99\\\\\n",
       "\t 5          & 0.3066202  &   31939.77\\\\\n",
       "\\end{tabular}\n"
      ],
      "text/markdown": [
       "\n",
       "| fold | accuracy | profit |\n",
       "|---|---|---|\n",
       "| 1          | 0.3042973  | -221281.10 |\n",
       "| 2          | 0.9163763  |  -90115.24 |\n",
       "| 3          | 0.2659698  |  -28710.93 |\n",
       "| 4          | 0.2950058  |  -89837.99 |\n",
       "| 5          | 0.3066202  |   31939.77 |\n",
       "\n"
      ],
      "text/plain": [
       "  fold accuracy  profit    \n",
       "1 1    0.3042973 -221281.10\n",
       "2 2    0.9163763  -90115.24\n",
       "3 3    0.2659698  -28710.93\n",
       "4 4    0.2950058  -89837.99\n",
       "5 5    0.3066202   31939.77"
      ]
     },
     "metadata": {},
     "output_type": "display_data"
    }
   ],
   "source": [
    "# Present the model's estimated accuracy and profit at cutoff=0.5 for each fold.\n",
    "accuracies = c(NA, NA, NA, NA, NA)\n",
    "profits = c(NA, NA, NA, NA, NA)\n",
    "profit_rates = c(NA, NA, NA, NA, NA)\n",
    "cutoff = 0.5\n",
    "\n",
    "for (i in 1:5)\n",
    "{ \n",
    "    data.train = data[setdiff(1:nrow(data), fold[[i]]),]\n",
    "    data.dev = data[fold[[i]],]\n",
    "    model = naiveBayes(big_growth ~ PC1+PC2, data.train)\n",
    "    prob = predict(model, data.dev, type=\"raw\")\n",
    "    class.predicted = as.class(prob, class=\"YES\", cutoff=cutoff)\n",
    "    CM = confusionMatrix(class.predicted, data.dev$big_growth)$table\n",
    "    cm = CM/sum(CM)\n",
    "    accuracies[i] = cm[1,1]+cm[2,2]\n",
    "    data.dev$class.predicted = class.predicted\n",
    "    bigs.i = data.dev[data.dev$class.predicted == \"YES\",]\n",
    "    big12.i = bigs.i[1:12,]\n",
    "    profit.i = sum((big12.i$growth + 1) * allocation) - budget\n",
    "    profits[i] = profit.i\n",
    "    profit_rates[i] = profit.i / budget\n",
    "}\n",
    "\n",
    "# Re-do fold #2 because it has no big_growth==YES values giving us an NA value.\n",
    "data.train.2 = data[setdiff(1:nrow(data), fold[[2]]),]\n",
    "data.dev.2 = data[fold[[2]],]\n",
    "model.2 = naiveBayes(big_growth ~ PC1+PC2, data.train.2)\n",
    "prob.2 = predict(model.2, data.dev.2, type=\"raw\")\n",
    "class.predicted.2 = as.class(prob.2, class=\"YES\", cutoff=cutoff)\n",
    "data.dev.2$class.predicted = class.predicted.2\n",
    "bigs.2 = data.dev.2[data.dev.2$class.predicted == \"NO\",]\n",
    "big12.2 = bigs.2[1:12,]\n",
    "profit.2 = sum((big12.2$growth + 1) * allocation) - budget\n",
    "profits[2] = profit.2\n",
    "profit_rates[2] = profit.2 / budget\n",
    "\n",
    "\n",
    "tbl2 = data.frame(fold=c(1,2,3,4,5),\n",
    "                  accuracy=accuracies,\n",
    "                  profit=profits)\n",
    "tbl2"
   ]
  },
  {
   "cell_type": "code",
   "execution_count": 24,
   "metadata": {},
   "outputs": [
    {
     "data": {
      "text/html": [
       "<table>\n",
       "<thead><tr><th scope=col>accuracy.cv</th><th scope=col>profit.cv</th><th scope=col>profit_rate.cv</th></tr></thead>\n",
       "<tbody>\n",
       "\t<tr><td>0.4176539 </td><td>-79601.1  </td><td>-0.0796011</td></tr>\n",
       "</tbody>\n",
       "</table>\n"
      ],
      "text/latex": [
       "\\begin{tabular}{r|lll}\n",
       " accuracy.cv & profit.cv & profit\\_rate.cv\\\\\n",
       "\\hline\n",
       "\t 0.4176539  & -79601.1   & -0.0796011\\\\\n",
       "\\end{tabular}\n"
      ],
      "text/markdown": [
       "\n",
       "| accuracy.cv | profit.cv | profit_rate.cv |\n",
       "|---|---|---|\n",
       "| 0.4176539  | -79601.1   | -0.0796011 |\n",
       "\n"
      ],
      "text/plain": [
       "  accuracy.cv profit.cv profit_rate.cv\n",
       "1 0.4176539   -79601.1  -0.0796011    "
      ]
     },
     "metadata": {},
     "output_type": "display_data"
    }
   ],
   "source": [
    "# Present the model's 5-fold cross-validation estimated accuracy, profit, and profit rate at cutoff=0.5\n",
    "\n",
    "df = data.frame(accuracy.cv=mean(accuracies),\n",
    "                profit.cv=mean(profits),\n",
    "                profit_rate.cv=mean(profit_rates))\n",
    "df"
   ]
  },
  {
   "cell_type": "markdown",
   "metadata": {},
   "source": [
    "<font size=1;>\n",
    "<p style=\"text-align: left;\">\n",
    "Copyright (c) Berkeley Data Analytics Group, LLC\n",
    "<span style=\"float: right;\">\n",
    "Document revised June 9, 2020\n",
    "</span>\n",
    "</p>\n",
    "</font>"
   ]
  }
 ],
 "metadata": {
  "hide_code_all_hidden": false,
  "hide_input": false,
  "kernelspec": {
   "display_name": "R",
   "language": "R",
   "name": "ir"
  },
  "language_info": {
   "codemirror_mode": "r",
   "file_extension": ".r",
   "mimetype": "text/x-r-source",
   "name": "R",
   "pygments_lexer": "r",
   "version": "3.6.3"
  },
  "toc": {
   "base_numbering": 1,
   "nav_menu": {},
   "number_sections": true,
   "sideBar": true,
   "skip_h1_title": true,
   "title_cell": "Table of Contents",
   "title_sidebar": "Contents",
   "toc_cell": false,
   "toc_position": {
    "height": "calc(100% - 180px)",
    "left": "10px",
    "top": "150px",
    "width": "256.396px"
   },
   "toc_section_display": true,
   "toc_window_display": true
  }
 },
 "nbformat": 4,
 "nbformat_minor": 2
}
