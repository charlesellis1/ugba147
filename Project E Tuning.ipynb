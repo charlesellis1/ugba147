{
 "cells": [
  {
   "cell_type": "markdown",
   "metadata": {
    "hideCode": false,
    "hidePrompt": false
   },
   "source": [
    "# Project Part E: Tuning\n",
    "\n",
    "![](banner_project.jpg)"
   ]
  },
  {
   "cell_type": "code",
   "execution_count": 6,
   "metadata": {},
   "outputs": [],
   "source": [
    "analyst = \"Charlie Ellis\" # Replace this with your name"
   ]
  },
  {
   "cell_type": "code",
   "execution_count": 7,
   "metadata": {
    "hide_input": false
   },
   "outputs": [
    {
     "data": {
      "text/html": [
       "<p style=\"text-align:center; font-size:10px;\">\n",
       ".................................................... start of document ....................................................\n",
       "</p>"
      ]
     },
     "metadata": {},
     "output_type": "display_data"
    }
   ],
   "source": [
    "f = \"setup.R\"; for (i in 1:10) { if (file.exists(f)) break else f = paste0(\"../\", f) }; source(f)\n",
    "options(repr.matrix.max.rows=674)\n",
    "options(repr.matrix.max.cols=200)\n",
    "update_geom_defaults(\"point\", list(size=1))                                "
   ]
  },
  {
   "cell_type": "markdown",
   "metadata": {},
   "source": [
    "## Directions"
   ]
  },
  {
   "cell_type": "markdown",
   "metadata": {},
   "source": [
    "### Objective\n",
    "\n",
    "Construct and tune a classifier and a regressor, each trained on a transformed dataset about public company fundamentals.  Later, use the best classifer or regressor along with additional analysis to recommend a portfolio of 12 company investments that maximizes 12-month return of an overall \\$1,000,000 investment."
   ]
  },
  {
   "cell_type": "markdown",
   "metadata": {},
   "source": [
    "### Approach\n",
    "\n",
    "Retrieve a transformed dataset.\n",
    "\n",
    "Construct a model to predict whether stock price will grow more than 30% over 12 months, given 12 months of past company fundamentals data, and using a machine learning model construction method and transformed data.  Tune the model by systematically selecting various combinations of predictor variables and cutoffs, and identify the best business performance based on a business model and business parameters.  \n",
    "\n",
    "Similarly, construct a model to predict how much stock price will grow over 12 months, given 12 months of past company fundamentals data, and using a machine learning model construction method and transformed data.  Tune the model by systematically selecting various combinations of predictor variables, and identify the best business performance based on a business model and business parameters."
   ]
  },
  {
   "cell_type": "markdown",
   "metadata": {},
   "source": [
    "## Business Model\n",
    "\n",
    "\n",
    "The business model is ...\n",
    "\n",
    "$ \\begin{align} profit = \\left( \\sum_{i \\in portfolio} (1 + growth_i) \\times allocation_i \\right) - budget \\end{align} $\n",
    "\n",
    "<br>\n",
    "\n",
    "$ profit\\,rate = profit \\div budget $\n",
    "\n",
    "\n",
    "$ \\begin{align} budget = \\sum_{i \\in portfolio} allocation_i \\end{align} $\n",
    "\n",
    "<br>\n",
    "\n",
    "Business model parameters include ...\n",
    "\n",
    "* Budget = \\\\$1,000,000: total investment to allocate across the companies in the portfolio\n",
    "* Portfolio Size = 12: number of companies in the portfolio\n",
    "* Allocations = \\\\$1,000,000 $\\div$ 12 to each company: investments to allocate to specific companies in the portfolio \n",
    "\n",
    "For classifier evaluation, fill the portfolio with companies with the lowest gvkey values from among those you predict to grow above 30%.  If you predict fewer than the portfolio size to grow above 30%, then fill the rest of the portfolio with the remaining companies with lowest gvkey values.\n",
    "\n",
    "For regressor evaluation, fill the portfolio with companies that have the highest predicted growths."
   ]
  },
  {
   "cell_type": "code",
   "execution_count": 8,
   "metadata": {},
   "outputs": [
    {
     "data": {
      "text/html": [
       "<table><tr><td style=\"background-color:white; vertical-align:top; padding-right:40px;\"><table>\n",
       " <thead>\n",
       "  <tr>\n",
       "   <th style=\"text-align:right;background-color: #FFFFFF !important;\"> budget </th>\n",
       "  </tr>\n",
       " </thead>\n",
       "<tbody>\n",
       "  <tr>\n",
       "   <td style=\"text-align:right;\"> 1000000 </td>\n",
       "  </tr>\n",
       "</tbody>\n",
       "</table></td><td style=\"background-color:white; vertical-align:top; padding-right:40px;\"><table>\n",
       " <thead>\n",
       "  <tr>\n",
       "   <th style=\"text-align:right;background-color: #FFFFFF !important;\"> portfolio_size </th>\n",
       "  </tr>\n",
       " </thead>\n",
       "<tbody>\n",
       "  <tr>\n",
       "   <td style=\"text-align:right;\"> 12 </td>\n",
       "  </tr>\n",
       "</tbody>\n",
       "</table></td><td style=\"background-color:white; vertical-align:top;\"><table>\n",
       " <thead>\n",
       "  <tr>\n",
       "   <th style=\"text-align:right;background-color: #FFFFFF !important;\"> allocation </th>\n",
       "  </tr>\n",
       " </thead>\n",
       "<tbody>\n",
       "  <tr>\n",
       "   <td style=\"text-align:right;\"> 83333.33 </td>\n",
       "  </tr>\n",
       "  <tr>\n",
       "   <td style=\"text-align:right;\"> 83333.33 </td>\n",
       "  </tr>\n",
       "  <tr>\n",
       "   <td style=\"text-align:right;\"> 83333.33 </td>\n",
       "  </tr>\n",
       "  <tr>\n",
       "   <td style=\"text-align:right;\"> 83333.33 </td>\n",
       "  </tr>\n",
       "  <tr>\n",
       "   <td style=\"text-align:right;\"> 83333.33 </td>\n",
       "  </tr>\n",
       "  <tr>\n",
       "   <td style=\"text-align:right;\"> 83333.33 </td>\n",
       "  </tr>\n",
       "  <tr>\n",
       "   <td style=\"text-align:right;\"> 83333.33 </td>\n",
       "  </tr>\n",
       "  <tr>\n",
       "   <td style=\"text-align:right;\"> 83333.33 </td>\n",
       "  </tr>\n",
       "  <tr>\n",
       "   <td style=\"text-align:right;\"> 83333.33 </td>\n",
       "  </tr>\n",
       "  <tr>\n",
       "   <td style=\"text-align:right;\"> 83333.33 </td>\n",
       "  </tr>\n",
       "  <tr>\n",
       "   <td style=\"text-align:right;\"> 83333.33 </td>\n",
       "  </tr>\n",
       "  <tr>\n",
       "   <td style=\"text-align:right;\"> 83333.33 </td>\n",
       "  </tr>\n",
       "</tbody>\n",
       "</table></td></tr></table>"
      ]
     },
     "metadata": {},
     "output_type": "display_data"
    }
   ],
   "source": [
    "# Set the business parameters.\n",
    "\n",
    "budget = 1000000\n",
    "portfolio_size = 12\n",
    "allocation = rep(budget/portfolio_size, portfolio_size)\n",
    "\n",
    "layout(fmt(budget), fmt(portfolio_size), fmt(allocation))"
   ]
  },
  {
   "cell_type": "markdown",
   "metadata": {},
   "source": [
    "## Data Retrieval\n",
    "\n",
    "In this step, we just acquire our data frame that we created from the last part of Project B where we established what 5 predictor variables and 3 outcome variables we wanted to use for classifying simply by using the read.csv function in R (We did this step in Project Part C and D). Two of the predictor variables we used were the first and second principal components, which we were able to acquire from Project part , and are great estimators for our data and will be helpful for making predictions."
   ]
  },
  {
   "cell_type": "code",
   "execution_count": 9,
   "metadata": {},
   "outputs": [
    {
     "data": {
      "text/html": [
       "<table>\n",
       "<thead><tr><th scope=col>gvkey</th><th scope=col>tic</th><th scope=col>conm</th><th scope=col>PC1</th><th scope=col>PC2</th><th scope=col>prccq</th><th scope=col>growth</th><th scope=col>big_growth</th></tr></thead>\n",
       "<tbody>\n",
       "\t<tr><td>1004                        </td><td>AIR                         </td><td>AAR CORP                    </td><td>  3.4371231                 </td><td>-0.2260719                  </td><td>43.69                       </td><td> 0.0507455507               </td><td>NO                          </td></tr>\n",
       "\t<tr><td>1045                        </td><td>AAL                         </td><td>AMERICAN AIRLINES GROUP INC </td><td>-12.0332067                 </td><td> 0.8045109                  </td><td>32.11                       </td><td>-0.3828560446               </td><td>NO                          </td></tr>\n",
       "\t<tr><td>1050                        </td><td>CECE                        </td><td>CECO ENVIRONMENTAL CORP     </td><td>  3.9532234                 </td><td>-0.7553386                  </td><td> 6.75                       </td><td> 0.3157894737               </td><td>YES                         </td></tr>\n",
       "\t<tr><td>1062                        </td><td>ASA                         </td><td>ASA GOLD AND PRECIOUS METALS</td><td>  3.6561434                 </td><td>-0.7981915                  </td><td> 8.66                       </td><td>-0.2164739518               </td><td>NO                          </td></tr>\n",
       "\t<tr><td>1072                        </td><td>AVX                         </td><td>AVX CORP                    </td><td>  2.9282228                 </td><td>-0.7104200                  </td><td>15.25                       </td><td>-0.1184971098               </td><td>NO                          </td></tr>\n",
       "\t<tr><td>1075                        </td><td>PNW                         </td><td>PINNACLE WEST CAPITAL CORP  </td><td>  0.3488491                 </td><td> 1.1389605                  </td><td>85.20                       </td><td> 0.0002347969               </td><td>NO                          </td></tr>\n",
       "</tbody>\n",
       "</table>\n"
      ],
      "text/latex": [
       "\\begin{tabular}{r|llllllll}\n",
       " gvkey & tic & conm & PC1 & PC2 & prccq & growth & big\\_growth\\\\\n",
       "\\hline\n",
       "\t 1004                         & AIR                          & AAR CORP                     &   3.4371231                  & -0.2260719                   & 43.69                        &  0.0507455507                & NO                          \\\\\n",
       "\t 1045                         & AAL                          & AMERICAN AIRLINES GROUP INC  & -12.0332067                  &  0.8045109                   & 32.11                        & -0.3828560446                & NO                          \\\\\n",
       "\t 1050                         & CECE                         & CECO ENVIRONMENTAL CORP      &   3.9532234                  & -0.7553386                   &  6.75                        &  0.3157894737                & YES                         \\\\\n",
       "\t 1062                         & ASA                          & ASA GOLD AND PRECIOUS METALS &   3.6561434                  & -0.7981915                   &  8.66                        & -0.2164739518                & NO                          \\\\\n",
       "\t 1072                         & AVX                          & AVX CORP                     &   2.9282228                  & -0.7104200                   & 15.25                        & -0.1184971098                & NO                          \\\\\n",
       "\t 1075                         & PNW                          & PINNACLE WEST CAPITAL CORP   &   0.3488491                  &  1.1389605                   & 85.20                        &  0.0002347969                & NO                          \\\\\n",
       "\\end{tabular}\n"
      ],
      "text/markdown": [
       "\n",
       "| gvkey | tic | conm | PC1 | PC2 | prccq | growth | big_growth |\n",
       "|---|---|---|---|---|---|---|---|\n",
       "| 1004                         | AIR                          | AAR CORP                     |   3.4371231                  | -0.2260719                   | 43.69                        |  0.0507455507                | NO                           |\n",
       "| 1045                         | AAL                          | AMERICAN AIRLINES GROUP INC  | -12.0332067                  |  0.8045109                   | 32.11                        | -0.3828560446                | NO                           |\n",
       "| 1050                         | CECE                         | CECO ENVIRONMENTAL CORP      |   3.9532234                  | -0.7553386                   |  6.75                        |  0.3157894737                | YES                          |\n",
       "| 1062                         | ASA                          | ASA GOLD AND PRECIOUS METALS |   3.6561434                  | -0.7981915                   |  8.66                        | -0.2164739518                | NO                           |\n",
       "| 1072                         | AVX                          | AVX CORP                     |   2.9282228                  | -0.7104200                   | 15.25                        | -0.1184971098                | NO                           |\n",
       "| 1075                         | PNW                          | PINNACLE WEST CAPITAL CORP   |   0.3488491                  |  1.1389605                   | 85.20                        |  0.0002347969                | NO                           |\n",
       "\n"
      ],
      "text/plain": [
       "  gvkey tic  conm                         PC1         PC2        prccq\n",
       "1 1004  AIR  AAR CORP                       3.4371231 -0.2260719 43.69\n",
       "2 1045  AAL  AMERICAN AIRLINES GROUP INC  -12.0332067  0.8045109 32.11\n",
       "3 1050  CECE CECO ENVIRONMENTAL CORP        3.9532234 -0.7553386  6.75\n",
       "4 1062  ASA  ASA GOLD AND PRECIOUS METALS   3.6561434 -0.7981915  8.66\n",
       "5 1072  AVX  AVX CORP                       2.9282228 -0.7104200 15.25\n",
       "6 1075  PNW  PINNACLE WEST CAPITAL CORP     0.3488491  1.1389605 85.20\n",
       "  growth        big_growth\n",
       "1  0.0507455507 NO        \n",
       "2 -0.3828560446 NO        \n",
       "3  0.3157894737 YES       \n",
       "4 -0.2164739518 NO        \n",
       "5 -0.1184971098 NO        \n",
       "6  0.0002347969 NO        "
      ]
     },
     "metadata": {},
     "output_type": "display_data"
    }
   ],
   "source": [
    "# Retrieve \"My Data.csv\"\n",
    "data = read.csv(\"My Data.csv\", header=TRUE)\n",
    "\n",
    "# Present a few rows\n",
    "data[1:6,]"
   ]
  },
  {
   "cell_type": "markdown",
   "metadata": {},
   "source": [
    "## Build & Tune Classification Model"
   ]
  },
  {
   "cell_type": "code",
   "execution_count": 10,
   "metadata": {},
   "outputs": [],
   "source": [
    "df = data[,c(\"big_growth\", \"PC1\", \"PC2\")]\n",
    "df2 = data[,c(\"growth\", \"PC1\", \"PC2\")]"
   ]
  },
  {
   "cell_type": "code",
   "execution_count": 11,
   "metadata": {},
   "outputs": [
    {
     "data": {
      "text/html": [
       "<table>\n",
       "<thead><tr><th scope=col>method</th><th scope=col>variables</th><th scope=col>cutoff</th><th scope=col>accuracy.cv</th><th scope=col>profit.cv</th></tr></thead>\n",
       "<tbody>\n",
       "\t<tr><td>naive bayes         </td><td>PC1, big_growth     </td><td>0.25                </td><td>0.7865273           </td><td> -77384.67          </td></tr>\n",
       "\t<tr><td>naive bayes         </td><td>PC1, big_growth     </td><td>0.33                </td><td>0.9156794           </td><td> -79341.81          </td></tr>\n",
       "\t<tr><td>naive bayes         </td><td>PC1, big_growth     </td><td>0.50                </td><td>0.9156794           </td><td> -79341.81          </td></tr>\n",
       "\t<tr><td>naive bayes         </td><td>PC2, big_growth     </td><td>0.25                </td><td>0.3398374           </td><td> -98638.03          </td></tr>\n",
       "\t<tr><td>naive bayes         </td><td>PC2, big_growth     </td><td>0.33                </td><td>0.6594657           </td><td> -73636.90          </td></tr>\n",
       "\t<tr><td>naive bayes         </td><td>PC2, big_growth     </td><td>0.50                </td><td>0.9154472           </td><td> -73161.70          </td></tr>\n",
       "\t<tr><td>naive bayes         </td><td>PC1, PC2, big_growth</td><td>0.25                </td><td>0.2088269           </td><td> -84303.85          </td></tr>\n",
       "\t<tr><td>naive bayes         </td><td>PC1, PC2, big_growth</td><td>0.33                </td><td>0.2269454           </td><td> -96651.95          </td></tr>\n",
       "\t<tr><td>naive bayes         </td><td>PC1, PC2, big_growth</td><td>0.50                </td><td>0.4160279           </td><td>-114519.58          </td></tr>\n",
       "</tbody>\n",
       "</table>\n"
      ],
      "text/latex": [
       "\\begin{tabular}{r|lllll}\n",
       " method & variables & cutoff & accuracy.cv & profit.cv\\\\\n",
       "\\hline\n",
       "\t naive bayes            & PC1, big\\_growth      & 0.25                   & 0.7865273              &  -77384.67            \\\\\n",
       "\t naive bayes            & PC1, big\\_growth      & 0.33                   & 0.9156794              &  -79341.81            \\\\\n",
       "\t naive bayes            & PC1, big\\_growth      & 0.50                   & 0.9156794              &  -79341.81            \\\\\n",
       "\t naive bayes            & PC2, big\\_growth      & 0.25                   & 0.3398374              &  -98638.03            \\\\\n",
       "\t naive bayes            & PC2, big\\_growth      & 0.33                   & 0.6594657              &  -73636.90            \\\\\n",
       "\t naive bayes            & PC2, big\\_growth      & 0.50                   & 0.9154472              &  -73161.70            \\\\\n",
       "\t naive bayes            & PC1, PC2, big\\_growth & 0.25                   & 0.2088269              &  -84303.85            \\\\\n",
       "\t naive bayes            & PC1, PC2, big\\_growth & 0.33                   & 0.2269454              &  -96651.95            \\\\\n",
       "\t naive bayes            & PC1, PC2, big\\_growth & 0.50                   & 0.4160279              & -114519.58            \\\\\n",
       "\\end{tabular}\n"
      ],
      "text/markdown": [
       "\n",
       "| method | variables | cutoff | accuracy.cv | profit.cv |\n",
       "|---|---|---|---|---|\n",
       "| naive bayes          | PC1, big_growth      | 0.25                 | 0.7865273            |  -77384.67           |\n",
       "| naive bayes          | PC1, big_growth      | 0.33                 | 0.9156794            |  -79341.81           |\n",
       "| naive bayes          | PC1, big_growth      | 0.50                 | 0.9156794            |  -79341.81           |\n",
       "| naive bayes          | PC2, big_growth      | 0.25                 | 0.3398374            |  -98638.03           |\n",
       "| naive bayes          | PC2, big_growth      | 0.33                 | 0.6594657            |  -73636.90           |\n",
       "| naive bayes          | PC2, big_growth      | 0.50                 | 0.9154472            |  -73161.70           |\n",
       "| naive bayes          | PC1, PC2, big_growth | 0.25                 | 0.2088269            |  -84303.85           |\n",
       "| naive bayes          | PC1, PC2, big_growth | 0.33                 | 0.2269454            |  -96651.95           |\n",
       "| naive bayes          | PC1, PC2, big_growth | 0.50                 | 0.4160279            | -114519.58           |\n",
       "\n"
      ],
      "text/plain": [
       "  method      variables            cutoff accuracy.cv profit.cv \n",
       "1 naive bayes PC1, big_growth      0.25   0.7865273    -77384.67\n",
       "2 naive bayes PC1, big_growth      0.33   0.9156794    -79341.81\n",
       "3 naive bayes PC1, big_growth      0.50   0.9156794    -79341.81\n",
       "4 naive bayes PC2, big_growth      0.25   0.3398374    -98638.03\n",
       "5 naive bayes PC2, big_growth      0.33   0.6594657    -73636.90\n",
       "6 naive bayes PC2, big_growth      0.50   0.9154472    -73161.70\n",
       "7 naive bayes PC1, PC2, big_growth 0.25   0.2088269    -84303.85\n",
       "8 naive bayes PC1, PC2, big_growth 0.33   0.2269454    -96651.95\n",
       "9 naive bayes PC1, PC2, big_growth 0.50   0.4160279   -114519.58"
      ]
     },
     "metadata": {},
     "output_type": "display_data"
    }
   ],
   "source": [
    "# Partition the data into 5 folds (use set.seed(0) and createFolds(...) based on big_growth).\n",
    "\n",
    "# Construct several naive Bayes models to predict big_growth (use laplace=TRUE).\n",
    "# Iterate through unique combinations of predictor variables, selected from PC1 and PC2.\n",
    "# Iterate through cutoff values, selected from 0.25, 0.33, and 0.50.\n",
    "\n",
    "# Estimate each model's accuracy and profit, using 5-fold cross validation.\n",
    "\n",
    "# Present the best model: selected variables, selected cutoff, accuracy, and profit.\n",
    "# Present all the models: selected variables, selected cutoff, accuracy, and profit.\n",
    "\n",
    "fold = createFolds(data$big_growth, k=5)\n",
    "tune = data.frame()\n",
    "accuracy = c()\n",
    "profits = c()\n",
    "\n",
    "\n",
    "for (f in exhaustive(names(df), keep=\"big_growth\")) # try several combinations of variables\n",
    "{ \n",
    "    for (c in c(0.25, 0.33, 0.5)) {\n",
    "        \n",
    "        for (i in 1:5) { \n",
    "            data.train = data[setdiff(1:nrow(data), fold[[i]]),]\n",
    "            data.test  = data[fold[[i]],]\n",
    "            set.seed(0)\n",
    "            model = naiveBayes(big_growth ~ ., data.train[,f])\n",
    "            prob = predict(model, data.test, type=\"raw\")\n",
    "            class.predicted = as.class(prob, \"YES\", cutoff=c)\n",
    "            CM = confusionMatrix(class.predicted, data.test$big_growth)$table\n",
    "            cm = CM/sum(CM)\n",
    "            accuracy[i] = cm[1,1]+cm[2,2]\n",
    "            data.test$class.predicted = class.predicted\n",
    "            bigs.i = data.test[order(data.test$class.predicted == \"NO\"),]\n",
    "            big12.i = bigs.i[1:12,]\n",
    "            profit.i = sum((big12.i$growth + 1) * allocation) - budget\n",
    "            profits[i] = profit.i\n",
    "        }\n",
    "        \n",
    "        accuracy.cv = mean(accuracy)\n",
    "        profit.cv = mean(profits)\n",
    "        tune = rbind(tune, data.frame(method=\"naive bayes\", variables=paste(f, collapse=\", \"), cutoff=c, accuracy.cv, profit.cv)) \n",
    "        \n",
    "    }\n",
    "    \n",
    "}\n",
    "    \n",
    "tune"
   ]
  },
  {
   "cell_type": "markdown",
   "metadata": {},
   "source": [
    "## Build & Tune Regression Model"
   ]
  },
  {
   "cell_type": "code",
   "execution_count": 12,
   "metadata": {},
   "outputs": [
    {
     "data": {
      "text/html": [
       "<table>\n",
       "<thead><tr><th scope=col>method</th><th scope=col>variables</th><th scope=col>rmse.cv</th><th scope=col>profit.cv</th></tr></thead>\n",
       "<tbody>\n",
       "\t<tr><td>linear regression</td><td>PC1, growth      </td><td>0.4659713        </td><td>-260853.48       </td></tr>\n",
       "\t<tr><td>linear regression</td><td>PC2, growth      </td><td>0.4660480        </td><td> -77011.29       </td></tr>\n",
       "\t<tr><td>linear regression</td><td>PC1, PC2, growth </td><td>0.4660607        </td><td> -71385.76       </td></tr>\n",
       "</tbody>\n",
       "</table>\n"
      ],
      "text/latex": [
       "\\begin{tabular}{r|llll}\n",
       " method & variables & rmse.cv & profit.cv\\\\\n",
       "\\hline\n",
       "\t linear regression & PC1, growth       & 0.4659713         & -260853.48       \\\\\n",
       "\t linear regression & PC2, growth       & 0.4660480         &  -77011.29       \\\\\n",
       "\t linear regression & PC1, PC2, growth  & 0.4660607         &  -71385.76       \\\\\n",
       "\\end{tabular}\n"
      ],
      "text/markdown": [
       "\n",
       "| method | variables | rmse.cv | profit.cv |\n",
       "|---|---|---|---|\n",
       "| linear regression | PC1, growth       | 0.4659713         | -260853.48        |\n",
       "| linear regression | PC2, growth       | 0.4660480         |  -77011.29        |\n",
       "| linear regression | PC1, PC2, growth  | 0.4660607         |  -71385.76        |\n",
       "\n"
      ],
      "text/plain": [
       "  method            variables        rmse.cv   profit.cv \n",
       "1 linear regression PC1, growth      0.4659713 -260853.48\n",
       "2 linear regression PC2, growth      0.4660480  -77011.29\n",
       "3 linear regression PC1, PC2, growth 0.4660607  -71385.76"
      ]
     },
     "metadata": {},
     "output_type": "display_data"
    }
   ],
   "source": [
    "# Partition the data into 5 folds (use set.seed(0) and createFolds(...) based on growth).\n",
    "\n",
    "# Construct several linear regression models to predict growth.\n",
    "# Iterate through unique combinations of predictor variables, selected from PC1 and PC2.\n",
    "\n",
    "# Estimate each model's RMSE and profit, using 5-fold cross validation.\n",
    "\n",
    "# Present the best model: selected variables, RMSE, and profit.\n",
    "# Present all the models: selected variables, selected cutoff, accuracy, and profit.\n",
    "\n",
    "fold = createFolds(data$growth, k=5)\n",
    "tune = data.frame()\n",
    "rmses = c()\n",
    "profits = c()\n",
    "\n",
    "\n",
    "for (f in exhaustive(names(df2), keep=\"growth\")) # try several combinations of variables\n",
    "{ \n",
    "    for (i in 1:5) { \n",
    "        data.train = data[setdiff(1:nrow(data), fold[[i]]),]\n",
    "        data.test  = data[fold[[i]],]\n",
    "        model = lm(growth ~ ., data.train[,f])\n",
    "        prob = predict(model, data.test)\n",
    "        error = prob - data.test$growth\n",
    "        square_error = error^2\n",
    "        RMSE = sqrt(mean(square_error))\n",
    "        rmses[i] = RMSE\n",
    "        \n",
    "        \n",
    "        data.temp = data.test\n",
    "        data.temp$pred.growth = prob\n",
    "        bigs.i = data.temp[order(-data.temp$pred.growth),]\n",
    "        big12.i = bigs.i[1:12,]\n",
    "        profit.i = sum((big12.i$growth + 1) * allocation) - budget\n",
    "        profits[i] = profit.i\n",
    "    }\n",
    "    \n",
    "    rmse.cv = mean(rmses)\n",
    "    profit.cv = mean(profits)\n",
    "    tune = rbind(tune, data.frame(method=\"linear regression\", variables=paste(f, collapse=\", \"), rmse.cv, profit.cv)) \n",
    "    \n",
    "    \n",
    "}\n",
    "    \n",
    "tune"
   ]
  },
  {
   "cell_type": "markdown",
   "metadata": {},
   "source": [
    "<font size=1;>\n",
    "<p style=\"text-align: left;\">\n",
    "Copyright (c) Berkeley Data Analytics Group, LLC\n",
    "<span style=\"float: right;\">\n",
    "Document revised June 14, 2020\n",
    "</span>\n",
    "</p>\n",
    "</font>"
   ]
  }
 ],
 "metadata": {
  "hide_code_all_hidden": false,
  "hide_input": false,
  "kernelspec": {
   "display_name": "R",
   "language": "R",
   "name": "ir"
  },
  "language_info": {
   "codemirror_mode": "r",
   "file_extension": ".r",
   "mimetype": "text/x-r-source",
   "name": "R",
   "pygments_lexer": "r",
   "version": "3.6.3"
  },
  "toc": {
   "base_numbering": 1,
   "nav_menu": {},
   "number_sections": true,
   "sideBar": true,
   "skip_h1_title": true,
   "title_cell": "Table of Contents",
   "title_sidebar": "Contents",
   "toc_cell": false,
   "toc_position": {
    "height": "calc(100% - 180px)",
    "left": "10px",
    "top": "150px",
    "width": "256.396px"
   },
   "toc_section_display": true,
   "toc_window_display": true
  }
 },
 "nbformat": 4,
 "nbformat_minor": 2
}
